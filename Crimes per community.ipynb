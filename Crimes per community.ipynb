{
 "cells": [
  {
   "cell_type": "code",
   "execution_count": 26,
   "metadata": {},
   "outputs": [],
   "source": [
    "#import necessary libraries\n",
    "import numpy as np\n",
    "import pandas as pd\n",
    "import matplotlib.pyplot as plt\n",
    "import seaborn as sns"
   ]
  },
  {
   "cell_type": "code",
   "execution_count": 27,
   "metadata": {},
   "outputs": [],
   "source": [
    "crimes = pd.read_csv('/Users/yadavvinamrata/Documents/Crimes_-_2016_to_2020.csv')"
   ]
  },
  {
   "cell_type": "code",
   "execution_count": 28,
   "metadata": {},
   "outputs": [
    {
     "data": {
      "text/html": [
       "<div>\n",
       "<style scoped>\n",
       "    .dataframe tbody tr th:only-of-type {\n",
       "        vertical-align: middle;\n",
       "    }\n",
       "\n",
       "    .dataframe tbody tr th {\n",
       "        vertical-align: top;\n",
       "    }\n",
       "\n",
       "    .dataframe thead th {\n",
       "        text-align: right;\n",
       "    }\n",
       "</style>\n",
       "<table border=\"1\" class=\"dataframe\">\n",
       "  <thead>\n",
       "    <tr style=\"text-align: right;\">\n",
       "      <th></th>\n",
       "      <th>ID</th>\n",
       "      <th>Case Number</th>\n",
       "      <th>Date</th>\n",
       "      <th>Block</th>\n",
       "      <th>Crime_Type</th>\n",
       "      <th>Primary Type</th>\n",
       "      <th>Description</th>\n",
       "      <th>Location Description</th>\n",
       "      <th>Arrest</th>\n",
       "      <th>Domestic</th>\n",
       "      <th>Beat</th>\n",
       "      <th>District</th>\n",
       "      <th>Ward</th>\n",
       "      <th>Community Area</th>\n",
       "      <th>Year</th>\n",
       "      <th>Updated On</th>\n",
       "      <th>Latitude</th>\n",
       "      <th>Longitude</th>\n",
       "      <th>Location</th>\n",
       "    </tr>\n",
       "  </thead>\n",
       "  <tbody>\n",
       "    <tr>\n",
       "      <th>0</th>\n",
       "      <td>11646166</td>\n",
       "      <td>JC213529</td>\n",
       "      <td>2018-09-01 00:01:00</td>\n",
       "      <td>082XX S INGLESIDE AVE</td>\n",
       "      <td>MISDEMEANOR</td>\n",
       "      <td>THEFT</td>\n",
       "      <td>OVER $500</td>\n",
       "      <td>RESIDENCE</td>\n",
       "      <td>0</td>\n",
       "      <td>1</td>\n",
       "      <td>631</td>\n",
       "      <td>6.0</td>\n",
       "      <td>8.0</td>\n",
       "      <td>44.0</td>\n",
       "      <td>2018</td>\n",
       "      <td>2019-04-06 16:04:43</td>\n",
       "      <td>NaN</td>\n",
       "      <td>NaN</td>\n",
       "      <td>NaN</td>\n",
       "    </tr>\n",
       "    <tr>\n",
       "      <th>1</th>\n",
       "      <td>11645836</td>\n",
       "      <td>JC212333</td>\n",
       "      <td>2016-05-01 00:25:00</td>\n",
       "      <td>055XX S ROCKWELL ST</td>\n",
       "      <td>MISDEMEANOR</td>\n",
       "      <td>DECEPTIVE PRACTICE</td>\n",
       "      <td>FINANCIAL IDENTITY THEFT OVER $ 300</td>\n",
       "      <td>NaN</td>\n",
       "      <td>0</td>\n",
       "      <td>0</td>\n",
       "      <td>824</td>\n",
       "      <td>8.0</td>\n",
       "      <td>15.0</td>\n",
       "      <td>63.0</td>\n",
       "      <td>2016</td>\n",
       "      <td>2019-04-06 16:04:43</td>\n",
       "      <td>NaN</td>\n",
       "      <td>NaN</td>\n",
       "      <td>NaN</td>\n",
       "    </tr>\n",
       "    <tr>\n",
       "      <th>2</th>\n",
       "      <td>12014684</td>\n",
       "      <td>JD189901</td>\n",
       "      <td>2020-03-17 21:30:00</td>\n",
       "      <td>039XX N LECLAIRE AVE</td>\n",
       "      <td>MISDEMEANOR</td>\n",
       "      <td>THEFT</td>\n",
       "      <td>$500 AND UNDER</td>\n",
       "      <td>STREET</td>\n",
       "      <td>0</td>\n",
       "      <td>0</td>\n",
       "      <td>1634</td>\n",
       "      <td>16.0</td>\n",
       "      <td>45.0</td>\n",
       "      <td>15.0</td>\n",
       "      <td>2020</td>\n",
       "      <td>2020-03-25 15:45:43</td>\n",
       "      <td>41.952052</td>\n",
       "      <td>-87.754660</td>\n",
       "      <td>(41.952051946, -87.754660372)</td>\n",
       "    </tr>\n",
       "    <tr>\n",
       "      <th>3</th>\n",
       "      <td>11645648</td>\n",
       "      <td>JC212959</td>\n",
       "      <td>2018-01-01 08:00:00</td>\n",
       "      <td>024XX N MONITOR AVE</td>\n",
       "      <td>MISDEMEANOR</td>\n",
       "      <td>DECEPTIVE PRACTICE</td>\n",
       "      <td>FINANCIAL IDENTITY THEFT OVER $ 300</td>\n",
       "      <td>RESIDENCE</td>\n",
       "      <td>0</td>\n",
       "      <td>0</td>\n",
       "      <td>2515</td>\n",
       "      <td>25.0</td>\n",
       "      <td>30.0</td>\n",
       "      <td>19.0</td>\n",
       "      <td>2018</td>\n",
       "      <td>2019-04-06 16:04:43</td>\n",
       "      <td>NaN</td>\n",
       "      <td>NaN</td>\n",
       "      <td>NaN</td>\n",
       "    </tr>\n",
       "    <tr>\n",
       "      <th>4</th>\n",
       "      <td>11864018</td>\n",
       "      <td>JC476123</td>\n",
       "      <td>2019-09-24 08:00:00</td>\n",
       "      <td>022XX S MICHIGAN AVE</td>\n",
       "      <td>MISDEMEANOR</td>\n",
       "      <td>DECEPTIVE PRACTICE</td>\n",
       "      <td>FINANCIAL IDENTITY THEFT $300 AND UNDER</td>\n",
       "      <td>COMMERCIAL / BUSINESS OFFICE</td>\n",
       "      <td>0</td>\n",
       "      <td>0</td>\n",
       "      <td>132</td>\n",
       "      <td>1.0</td>\n",
       "      <td>3.0</td>\n",
       "      <td>33.0</td>\n",
       "      <td>2019</td>\n",
       "      <td>2019-10-20 15:56:02</td>\n",
       "      <td>41.852248</td>\n",
       "      <td>-87.623786</td>\n",
       "      <td>(41.852248185, -87.623786256)</td>\n",
       "    </tr>\n",
       "  </tbody>\n",
       "</table>\n",
       "</div>"
      ],
      "text/plain": [
       "         ID Case Number                 Date                  Block  \\\n",
       "0  11646166    JC213529  2018-09-01 00:01:00  082XX S INGLESIDE AVE   \n",
       "1  11645836    JC212333  2016-05-01 00:25:00    055XX S ROCKWELL ST   \n",
       "2  12014684    JD189901  2020-03-17 21:30:00   039XX N LECLAIRE AVE   \n",
       "3  11645648    JC212959  2018-01-01 08:00:00    024XX N MONITOR AVE   \n",
       "4  11864018    JC476123  2019-09-24 08:00:00   022XX S MICHIGAN AVE   \n",
       "\n",
       "    Crime_Type        Primary Type                              Description  \\\n",
       "0  MISDEMEANOR               THEFT                                OVER $500   \n",
       "1  MISDEMEANOR  DECEPTIVE PRACTICE      FINANCIAL IDENTITY THEFT OVER $ 300   \n",
       "2  MISDEMEANOR               THEFT                           $500 AND UNDER   \n",
       "3  MISDEMEANOR  DECEPTIVE PRACTICE      FINANCIAL IDENTITY THEFT OVER $ 300   \n",
       "4  MISDEMEANOR  DECEPTIVE PRACTICE  FINANCIAL IDENTITY THEFT $300 AND UNDER   \n",
       "\n",
       "           Location Description  Arrest  Domestic  Beat  District  Ward  \\\n",
       "0                     RESIDENCE       0         1   631       6.0   8.0   \n",
       "1                           NaN       0         0   824       8.0  15.0   \n",
       "2                        STREET       0         0  1634      16.0  45.0   \n",
       "3                     RESIDENCE       0         0  2515      25.0  30.0   \n",
       "4  COMMERCIAL / BUSINESS OFFICE       0         0   132       1.0   3.0   \n",
       "\n",
       "   Community Area  Year           Updated On   Latitude  Longitude  \\\n",
       "0            44.0  2018  2019-04-06 16:04:43        NaN        NaN   \n",
       "1            63.0  2016  2019-04-06 16:04:43        NaN        NaN   \n",
       "2            15.0  2020  2020-03-25 15:45:43  41.952052 -87.754660   \n",
       "3            19.0  2018  2019-04-06 16:04:43        NaN        NaN   \n",
       "4            33.0  2019  2019-10-20 15:56:02  41.852248 -87.623786   \n",
       "\n",
       "                        Location  \n",
       "0                            NaN  \n",
       "1                            NaN  \n",
       "2  (41.952051946, -87.754660372)  \n",
       "3                            NaN  \n",
       "4  (41.852248185, -87.623786256)  "
      ]
     },
     "execution_count": 28,
     "metadata": {},
     "output_type": "execute_result"
    }
   ],
   "source": [
    "crimes.head()"
   ]
  },
  {
   "cell_type": "code",
   "execution_count": 4,
   "metadata": {},
   "outputs": [
    {
     "data": {
      "text/plain": [
       "(1277232, 19)"
      ]
     },
     "execution_count": 4,
     "metadata": {},
     "output_type": "execute_result"
    }
   ],
   "source": [
    "crimes.shape"
   ]
  },
  {
   "cell_type": "code",
   "execution_count": 6,
   "metadata": {},
   "outputs": [
    {
     "data": {
      "text/plain": [
       "array(['RESIDENCE', nan, 'STREET', 'COMMERCIAL / BUSINESS OFFICE',\n",
       "       'GROCERY FOOD STORE', 'APARTMENT', 'OTHER', 'HOTEL/MOTEL',\n",
       "       'GAS STATION', 'APPLIANCE STORE', 'SIDEWALK', 'RESIDENCE-GARAGE',\n",
       "       'RESIDENCE PORCH/HALLWAY', 'OTHER (SPECIFY)', 'RESTAURANT',\n",
       "       'SCHOOL, PUBLIC, BUILDING',\n",
       "       'AIRPORT BUILDING NON-TERMINAL - SECURE AREA',\n",
       "       'COLLEGE/UNIVERSITY GROUNDS', 'RESIDENTIAL YARD (FRONT/BACK)',\n",
       "       'BAR OR TAVERN', 'AIRPORT TERMINAL LOWER LEVEL - NON-SECURE AREA',\n",
       "       'ALLEY', 'AUTO / BOAT / RV DEALERSHIP', 'VACANT LOT/LAND',\n",
       "       'ATHLETIC CLUB', 'POOL ROOM', 'SMALL RETAIL STORE',\n",
       "       'VEHICLE NON-COMMERCIAL', 'ABANDONED BUILDING', 'PARK PROPERTY',\n",
       "       'BOAT/WATERCRAFT', 'WAREHOUSE', 'CTA STATION', 'CONVENIENCE STORE',\n",
       "       'DEPARTMENT STORE', 'MEDICAL/DENTAL OFFICE', 'CTA TRAIN',\n",
       "       'AIRPORT/AIRCRAFT', 'TAVERN/LIQUOR STORE',\n",
       "       'VEHICLE - OTHER RIDE SHARE SERVICE (E.G., UBER, LYFT)',\n",
       "       'POLICE FACILITY/VEH PARKING LOT', 'ANIMAL HOSPITAL',\n",
       "       'ATM (AUTOMATIC TELLER MACHINE)', 'CTA BUS', 'CURRENCY EXCHANGE',\n",
       "       'DRIVEWAY - RESIDENTIAL', 'TAXICAB',\n",
       "       'GOVERNMENT BUILDING/PROPERTY', 'PARKING LOT/GARAGE(NON.RESID.)',\n",
       "       'AIRPORT TERMINAL UPPER LEVEL - NON-SECURE AREA',\n",
       "       'CONSTRUCTION SITE', 'BANK', 'SPORTS ARENA/STADIUM', 'DRUG STORE',\n",
       "       'CHA PARKING LOT/GROUNDS', 'LIBRARY',\n",
       "       'NURSING HOME/RETIREMENT HOME', 'SCHOOL, PUBLIC, GROUNDS',\n",
       "       'CTA PLATFORM', 'PARKING LOT / GARAGE (NON RESIDENTIAL)',\n",
       "       'POLICE FACILITY / VEHICLE PARKING LOT',\n",
       "       'CHURCH/SYNAGOGUE/PLACE OF WORSHIP', 'CHA APARTMENT',\n",
       "       'AIRPORT VENDING ESTABLISHMENT',\n",
       "       'AIRPORT TERMINAL UPPER LEVEL - SECURE AREA',\n",
       "       'VEHICLE - COMMERCIAL', 'DAY CARE CENTER',\n",
       "       'HOSPITAL BUILDING/GROUNDS', 'CTA GARAGE / OTHER PROPERTY',\n",
       "       'SCHOOL, PRIVATE, GROUNDS', 'COIN OPERATED MACHINE', 'PAWN SHOP',\n",
       "       'CTA BUS STOP', 'SCHOOL, PRIVATE, BUILDING',\n",
       "       'OTHER RAILROAD PROP / TRAIN DEPOT', 'BARBERSHOP',\n",
       "       'RESIDENCE - GARAGE', 'HOSPITAL BUILDING / GROUNDS',\n",
       "       'RESIDENCE - PORCH / HALLWAY',\n",
       "       'CHA HALLWAY / STAIRWELL / ELEVATOR',\n",
       "       'VEHICLE - OTHER RIDE SHARE SERVICE (LYFT, UBER, ETC.)',\n",
       "       'VACANT LOT / LAND', 'RESIDENCE - YARD (FRONT / BACK)',\n",
       "       'FACTORY / MANUFACTURING BUILDING', 'BRIDGE', 'SAVINGS AND LOAN',\n",
       "       'SCHOOL - PUBLIC BUILDING', 'AIRCRAFT',\n",
       "       'OTHER COMMERCIAL TRANSPORTATION', 'AIRPORT PARKING LOT',\n",
       "       'MOVIE HOUSE / THEATER', 'CHA PARKING LOT / GROUNDS',\n",
       "       'FACTORY/MANUFACTURING BUILDING', 'CHA HALLWAY/STAIRWELL/ELEVATOR',\n",
       "       'HOTEL / MOTEL', 'AIRPORT EXTERIOR - NON-SECURE AREA',\n",
       "       'JAIL / LOCK-UP FACILITY', 'CAR WASH',\n",
       "       'LAKEFRONT/WATERFRONT/RIVERBANK', 'PORCH', 'FIRE STATION',\n",
       "       'AIRPORT EXTERIOR - SECURE AREA',\n",
       "       'COLLEGE/UNIVERSITY RESIDENCE HALL', 'HIGHWAY/EXPRESSWAY',\n",
       "       'VEHICLE-COMMERCIAL', 'CTA TRACKS - RIGHT OF WAY',\n",
       "       'AIRPORT TRANSPORTATION SYSTEM (ATS)', 'NURSING / RETIREMENT HOME',\n",
       "       'CREDIT UNION', 'MOVIE HOUSE/THEATER', 'CLEANING STORE',\n",
       "       'CEMETARY', 'AIRPORT TERMINAL LOWER LEVEL - SECURE AREA',\n",
       "       'AIRPORT BUILDING NON-TERMINAL - NON-SECURE AREA',\n",
       "       'VEHICLE - OTHER RIDE SERVICE', 'BOWLING ALLEY',\n",
       "       'VEHICLE - DELIVERY TRUCK', 'NEWSSTAND',\n",
       "       'GOVERNMENT BUILDING / PROPERTY', 'FEDERAL BUILDING',\n",
       "       'FOREST PRESERVE', 'SCHOOL - PRIVATE BUILDING',\n",
       "       'AIRPORT TERMINAL MEZZANINE - NON-SECURE AREA', 'VACANT LOT',\n",
       "       'CHURCH / SYNAGOGUE / PLACE OF WORSHIP',\n",
       "       'OTHER RAILROAD PROPERTY / TRAIN DEPOT', 'TAVERN / LIQUOR STORE',\n",
       "       'LAKEFRONT / WATERFRONT / RIVERBANK', 'MEDICAL / DENTAL OFFICE',\n",
       "       'SCHOOL - PUBLIC GROUNDS', 'VEHICLE-COMMERCIAL - TROLLEY BUS',\n",
       "       'VEHICLE-COMMERCIAL - ENTERTAINMENT/PARTY BUS', 'HORSE STABLE',\n",
       "       'FARM', 'COLLEGE / UNIVERSITY - GROUNDS',\n",
       "       'SCHOOL - PRIVATE GROUNDS', 'SPORTS ARENA / STADIUM',\n",
       "       'COLLEGE / UNIVERSITY - RESIDENCE HALL', 'KENNEL',\n",
       "       'CTA PARKING LOT / GARAGE / OTHER PROPERTY',\n",
       "       'HIGHWAY / EXPRESSWAY', 'AUTO', 'HOUSE',\n",
       "       'VEHICLE - COMMERCIAL: ENTERTAINMENT / PARTY BUS', 'YARD',\n",
       "       'HALLWAY', 'HOTEL', 'GARAGE', 'ELEVATOR', 'POOLROOM',\n",
       "       'RAILROAD PROPERTY', 'RETAIL STORE', 'CLEANERS/LAUNDROMAT',\n",
       "       'EXPRESSWAY EMBANKMENT', 'TAVERN', 'PARKING LOT', 'HOSPITAL',\n",
       "       'DRIVEWAY', 'GANGWAY', 'CHA PARKING LOT', 'CTA \"L\" TRAIN',\n",
       "       'SCHOOL YARD', 'NURSING HOME', 'VESTIBULE',\n",
       "       'GAS STATION DRIVE/PROP.', 'LAGOON', 'OFFICE', 'CLUB',\n",
       "       'CHA HALLWAY', 'STAIRWELL', 'CTA PROPERTY', 'CHURCH', 'RIVER BANK',\n",
       "       'BASEMENT', 'ROOMING HOUSE', 'YMCA', 'GOVERNMENT BUILDING',\n",
       "       'GARAGE/AUTO REPAIR', 'CHA GROUNDS', 'LIQUOR STORE', 'WOODED AREA',\n",
       "       'BARBER SHOP/BEAUTY SALON', 'CHA PLAY LOT', 'CTA SUBWAY STATION',\n",
       "       'BOAT / WATERCRAFT', 'CTA \"L\" PLATFORM', 'TRAILER', 'LAUNDRY ROOM',\n",
       "       'MOTEL', 'LAKE', 'VEHICLE - COMMERCIAL: TROLLEY BUS'], dtype=object)"
      ]
     },
     "execution_count": 6,
     "metadata": {},
     "output_type": "execute_result"
    }
   ],
   "source": [
    "crimes['Location Description'].unique()"
   ]
  },
  {
   "cell_type": "code",
   "execution_count": 9,
   "metadata": {},
   "outputs": [
    {
     "data": {
      "text/plain": [
       "190"
      ]
     },
     "execution_count": 9,
     "metadata": {},
     "output_type": "execute_result"
    }
   ],
   "source": [
    "crimes['Location Description'].nunique()"
   ]
  },
  {
   "cell_type": "code",
   "execution_count": 8,
   "metadata": {},
   "outputs": [
    {
     "data": {
      "text/plain": [
       "77"
      ]
     },
     "execution_count": 8,
     "metadata": {},
     "output_type": "execute_result"
    }
   ],
   "source": [
    "crimes['Community Area'].nunique()"
   ]
  },
  {
   "cell_type": "code",
   "execution_count": 25,
   "metadata": {},
   "outputs": [
    {
     "name": "stderr",
     "output_type": "stream",
     "text": [
      "/Users/yadavvinamrata/opt/anaconda3/lib/python3.7/site-packages/ipykernel_launcher.py:3: UserWarning: Matplotlib is currently using module://ipykernel.pylab.backend_inline, which is a non-GUI backend, so cannot show the figure.\n",
      "  This is separate from the ipykernel package so we can avoid doing imports until\n"
     ]
    },
    {
     "data": {
      "image/png": "[encoded data removed]",
      "text/plain": [
       "<Figure size 1296x576 with 1 Axes>"
      ]
     },
     "metadata": {
      "needs_background": "light"
     },
     "output_type": "display_data"
    }
   ],
   "source": [
    "fig = plt.figure(figsize = (18,8))\n",
    "crimes.groupby('Community Area')['Primary Type'].count().plot(kind = 'bar')\n",
    "fig.show()"
   ]
  },
  {
   "cell_type": "code",
   "execution_count": 18,
   "metadata": {},
   "outputs": [],
   "source": [
    "x = crimes.groupby('Community Area')['Primary Type'].value_counts()"
   ]
  },
  {
   "cell_type": "code",
   "execution_count": 23,
   "metadata": {},
   "outputs": [
    {
     "data": {
      "text/plain": [
       "Community Area  Primary Type                    \n",
       "1.0             THEFT                               5274\n",
       "                BATTERY                             3559\n",
       "                CRIMINAL DAMAGE                     2384\n",
       "                DECEPTIVE PRACTICE                  1362\n",
       "                ASSAULT                             1337\n",
       "                OTHER OFFENSE                       1080\n",
       "                BURGLARY                             841\n",
       "                ROBBERY                              698\n",
       "                CRIMINAL TRESPASS                    655\n",
       "                MOTOR VEHICLE THEFT                  568\n",
       "                NARCOTICS                            383\n",
       "                CRIMINAL SEXUAL ASSAULT              167\n",
       "                WEAPONS VIOLATION                    163\n",
       "                SEX OFFENSE                          134\n",
       "                OFFENSE INVOLVING CHILDREN           132\n",
       "                PUBLIC PEACE VIOLATION                69\n",
       "                INTERFERENCE WITH PUBLIC OFFICER      64\n",
       "                HOMICIDE                              27\n",
       "                PROSTITUTION                          19\n",
       "                STALKING                              19\n",
       "                LIQUOR LAW VIOLATION                  11\n",
       "                OBSCENITY                              9\n",
       "                ARSON                                  8\n",
       "                INTIMIDATION                           7\n",
       "                KIDNAPPING                             7\n",
       "                GAMBLING                               2\n",
       "                OTHER NARCOTIC VIOLATION               2\n",
       "                PUBLIC INDECENCY                       2\n",
       "                HUMAN TRAFFICKING                      1\n",
       "                NON-CRIMINAL                           1\n",
       "2.0             THEFT                               4147\n",
       "                BATTERY                             2916\n",
       "                CRIMINAL DAMAGE                     2185\n",
       "                DECEPTIVE PRACTICE                  1556\n",
       "                ASSAULT                             1163\n",
       "                OTHER OFFENSE                       1139\n",
       "                BURGLARY                            1029\n",
       "                MOTOR VEHICLE THEFT                  792\n",
       "                ROBBERY                              564\n",
       "                CRIMINAL TRESPASS                    464\n",
       "                NARCOTICS                            314\n",
       "                OFFENSE INVOLVING CHILDREN           163\n",
       "                WEAPONS VIOLATION                    144\n",
       "                SEX OFFENSE                          107\n",
       "                CRIMINAL SEXUAL ASSAULT               93\n",
       "                PUBLIC PEACE VIOLATION                60\n",
       "                LIQUOR LAW VIOLATION                  29\n",
       "                HOMICIDE                              24\n",
       "                ARSON                                 19\n",
       "                INTERFERENCE WITH PUBLIC OFFICER      19\n",
       "Name: Primary Type, dtype: int64"
      ]
     },
     "execution_count": 23,
     "metadata": {},
     "output_type": "execute_result"
    }
   ],
   "source": [
    "x.head(50)"
   ]
  },
  {
   "cell_type": "code",
   "execution_count": null,
   "metadata": {},
   "outputs": [],
   "source": []
  }
 ],
 "metadata": {
  "kernelspec": {
   "display_name": "Python 3",
   "language": "python",
   "name": "python3"
  },
  "language_info": {
   "codemirror_mode": {
    "name": "ipython",
    "version": 3
   },
   "file_extension": ".py",
   "mimetype": "text/x-python",
   "name": "python",
   "nbconvert_exporter": "python",
   "pygments_lexer": "ipython3",
   "version": "3.7.6"
  }
 },
 "nbformat": 4,
 "nbformat_minor": 4
}
