{
 "cells": [
  {
   "cell_type": "code",
   "execution_count": 1,
   "metadata": {},
   "outputs": [],
   "source": [
    "#import necessary libraries\n",
    "import numpy as np\n",
    "import pandas as pd\n",
    "import matplotlib.pyplot as plt\n",
    "import seaborn as sns\n",
    "%matplotlib inline\n",
    "\n",
    "from scipy.stats import f_oneway"
   ]
  },
  {
   "cell_type": "code",
   "execution_count": 2,
   "metadata": {},
   "outputs": [],
   "source": [
    "crimes = pd.read_csv('/Users/yadavvinamrata/Documents/Crimes_-_2016_to_2020.csv')"
   ]
  },
  {
   "cell_type": "code",
   "execution_count": 3,
   "metadata": {},
   "outputs": [
    {
     "data": {
      "text/html": [
       "<div>\n",
       "<style scoped>\n",
       "    .dataframe tbody tr th:only-of-type {\n",
       "        vertical-align: middle;\n",
       "    }\n",
       "\n",
       "    .dataframe tbody tr th {\n",
       "        vertical-align: top;\n",
       "    }\n",
       "\n",
       "    .dataframe thead th {\n",
       "        text-align: right;\n",
       "    }\n",
       "</style>\n",
       "<table border=\"1\" class=\"dataframe\">\n",
       "  <thead>\n",
       "    <tr style=\"text-align: right;\">\n",
       "      <th></th>\n",
       "      <th>ID</th>\n",
       "      <th>Case Number</th>\n",
       "      <th>Date</th>\n",
       "      <th>Block</th>\n",
       "      <th>Crime_Type</th>\n",
       "      <th>Primary Type</th>\n",
       "      <th>Description</th>\n",
       "      <th>Location Description</th>\n",
       "      <th>Arrest</th>\n",
       "      <th>Domestic</th>\n",
       "      <th>Beat</th>\n",
       "      <th>District</th>\n",
       "      <th>Ward</th>\n",
       "      <th>Community Area</th>\n",
       "      <th>Year</th>\n",
       "      <th>Updated On</th>\n",
       "      <th>Latitude</th>\n",
       "      <th>Longitude</th>\n",
       "      <th>Location</th>\n",
       "    </tr>\n",
       "  </thead>\n",
       "  <tbody>\n",
       "    <tr>\n",
       "      <th>0</th>\n",
       "      <td>11646166</td>\n",
       "      <td>JC213529</td>\n",
       "      <td>2018-09-01 00:01:00</td>\n",
       "      <td>082XX S INGLESIDE AVE</td>\n",
       "      <td>MISDEMEANOR</td>\n",
       "      <td>THEFT</td>\n",
       "      <td>OVER $500</td>\n",
       "      <td>RESIDENCE</td>\n",
       "      <td>0</td>\n",
       "      <td>1</td>\n",
       "      <td>631</td>\n",
       "      <td>6.0</td>\n",
       "      <td>8.0</td>\n",
       "      <td>44.0</td>\n",
       "      <td>2018</td>\n",
       "      <td>2019-04-06 16:04:43</td>\n",
       "      <td>NaN</td>\n",
       "      <td>NaN</td>\n",
       "      <td>NaN</td>\n",
       "    </tr>\n",
       "    <tr>\n",
       "      <th>1</th>\n",
       "      <td>11645836</td>\n",
       "      <td>JC212333</td>\n",
       "      <td>2016-05-01 00:25:00</td>\n",
       "      <td>055XX S ROCKWELL ST</td>\n",
       "      <td>MISDEMEANOR</td>\n",
       "      <td>DECEPTIVE PRACTICE</td>\n",
       "      <td>FINANCIAL IDENTITY THEFT OVER $ 300</td>\n",
       "      <td>NaN</td>\n",
       "      <td>0</td>\n",
       "      <td>0</td>\n",
       "      <td>824</td>\n",
       "      <td>8.0</td>\n",
       "      <td>15.0</td>\n",
       "      <td>63.0</td>\n",
       "      <td>2016</td>\n",
       "      <td>2019-04-06 16:04:43</td>\n",
       "      <td>NaN</td>\n",
       "      <td>NaN</td>\n",
       "      <td>NaN</td>\n",
       "    </tr>\n",
       "    <tr>\n",
       "      <th>2</th>\n",
       "      <td>12014684</td>\n",
       "      <td>JD189901</td>\n",
       "      <td>2020-03-17 21:30:00</td>\n",
       "      <td>039XX N LECLAIRE AVE</td>\n",
       "      <td>MISDEMEANOR</td>\n",
       "      <td>THEFT</td>\n",
       "      <td>$500 AND UNDER</td>\n",
       "      <td>STREET</td>\n",
       "      <td>0</td>\n",
       "      <td>0</td>\n",
       "      <td>1634</td>\n",
       "      <td>16.0</td>\n",
       "      <td>45.0</td>\n",
       "      <td>15.0</td>\n",
       "      <td>2020</td>\n",
       "      <td>2020-03-25 15:45:43</td>\n",
       "      <td>41.952052</td>\n",
       "      <td>-87.754660</td>\n",
       "      <td>(41.952051946, -87.754660372)</td>\n",
       "    </tr>\n",
       "    <tr>\n",
       "      <th>3</th>\n",
       "      <td>11645648</td>\n",
       "      <td>JC212959</td>\n",
       "      <td>2018-01-01 08:00:00</td>\n",
       "      <td>024XX N MONITOR AVE</td>\n",
       "      <td>MISDEMEANOR</td>\n",
       "      <td>DECEPTIVE PRACTICE</td>\n",
       "      <td>FINANCIAL IDENTITY THEFT OVER $ 300</td>\n",
       "      <td>RESIDENCE</td>\n",
       "      <td>0</td>\n",
       "      <td>0</td>\n",
       "      <td>2515</td>\n",
       "      <td>25.0</td>\n",
       "      <td>30.0</td>\n",
       "      <td>19.0</td>\n",
       "      <td>2018</td>\n",
       "      <td>2019-04-06 16:04:43</td>\n",
       "      <td>NaN</td>\n",
       "      <td>NaN</td>\n",
       "      <td>NaN</td>\n",
       "    </tr>\n",
       "    <tr>\n",
       "      <th>4</th>\n",
       "      <td>11864018</td>\n",
       "      <td>JC476123</td>\n",
       "      <td>2019-09-24 08:00:00</td>\n",
       "      <td>022XX S MICHIGAN AVE</td>\n",
       "      <td>MISDEMEANOR</td>\n",
       "      <td>DECEPTIVE PRACTICE</td>\n",
       "      <td>FINANCIAL IDENTITY THEFT $300 AND UNDER</td>\n",
       "      <td>COMMERCIAL / BUSINESS OFFICE</td>\n",
       "      <td>0</td>\n",
       "      <td>0</td>\n",
       "      <td>132</td>\n",
       "      <td>1.0</td>\n",
       "      <td>3.0</td>\n",
       "      <td>33.0</td>\n",
       "      <td>2019</td>\n",
       "      <td>2019-10-20 15:56:02</td>\n",
       "      <td>41.852248</td>\n",
       "      <td>-87.623786</td>\n",
       "      <td>(41.852248185, -87.623786256)</td>\n",
       "    </tr>\n",
       "  </tbody>\n",
       "</table>\n",
       "</div>"
      ],
      "text/plain": [
       "         ID Case Number                 Date                  Block  \\\n",
       "0  11646166    JC213529  2018-09-01 00:01:00  082XX S INGLESIDE AVE   \n",
       "1  11645836    JC212333  2016-05-01 00:25:00    055XX S ROCKWELL ST   \n",
       "2  12014684    JD189901  2020-03-17 21:30:00   039XX N LECLAIRE AVE   \n",
       "3  11645648    JC212959  2018-01-01 08:00:00    024XX N MONITOR AVE   \n",
       "4  11864018    JC476123  2019-09-24 08:00:00   022XX S MICHIGAN AVE   \n",
       "\n",
       "    Crime_Type        Primary Type                              Description  \\\n",
       "0  MISDEMEANOR               THEFT                                OVER $500   \n",
       "1  MISDEMEANOR  DECEPTIVE PRACTICE      FINANCIAL IDENTITY THEFT OVER $ 300   \n",
       "2  MISDEMEANOR               THEFT                           $500 AND UNDER   \n",
       "3  MISDEMEANOR  DECEPTIVE PRACTICE      FINANCIAL IDENTITY THEFT OVER $ 300   \n",
       "4  MISDEMEANOR  DECEPTIVE PRACTICE  FINANCIAL IDENTITY THEFT $300 AND UNDER   \n",
       "\n",
       "           Location Description  Arrest  Domestic  Beat  District  Ward  \\\n",
       "0                     RESIDENCE       0         1   631       6.0   8.0   \n",
       "1                           NaN       0         0   824       8.0  15.0   \n",
       "2                        STREET       0         0  1634      16.0  45.0   \n",
       "3                     RESIDENCE       0         0  2515      25.0  30.0   \n",
       "4  COMMERCIAL / BUSINESS OFFICE       0         0   132       1.0   3.0   \n",
       "\n",
       "   Community Area  Year           Updated On   Latitude  Longitude  \\\n",
       "0            44.0  2018  2019-04-06 16:04:43        NaN        NaN   \n",
       "1            63.0  2016  2019-04-06 16:04:43        NaN        NaN   \n",
       "2            15.0  2020  2020-03-25 15:45:43  41.952052 -87.754660   \n",
       "3            19.0  2018  2019-04-06 16:04:43        NaN        NaN   \n",
       "4            33.0  2019  2019-10-20 15:56:02  41.852248 -87.623786   \n",
       "\n",
       "                        Location  \n",
       "0                            NaN  \n",
       "1                            NaN  \n",
       "2  (41.952051946, -87.754660372)  \n",
       "3                            NaN  \n",
       "4  (41.852248185, -87.623786256)  "
      ]
     },
     "execution_count": 3,
     "metadata": {},
     "output_type": "execute_result"
    }
   ],
   "source": [
    "crimes.head()"
   ]
  },
  {
   "cell_type": "code",
   "execution_count": 4,
   "metadata": {},
   "outputs": [
    {
     "data": {
      "text/plain": [
       "(1277232, 19)"
      ]
     },
     "execution_count": 4,
     "metadata": {},
     "output_type": "execute_result"
    }
   ],
   "source": [
    "crimes.shape"
   ]
  },
  {
   "cell_type": "code",
   "execution_count": 5,
   "metadata": {},
   "outputs": [],
   "source": [
    "#crimes.pivot_table(index = 'Location Description', values ='Primary Type',aggfunc= 'count').plot()"
   ]
  },
  {
   "cell_type": "code",
   "execution_count": 6,
   "metadata": {},
   "outputs": [
    {
     "data": {
      "text/plain": [
       "190"
      ]
     },
     "execution_count": 6,
     "metadata": {},
     "output_type": "execute_result"
    }
   ],
   "source": [
    "crimes['Location Description'].nunique()"
   ]
  },
  {
   "cell_type": "code",
   "execution_count": 7,
   "metadata": {},
   "outputs": [
    {
     "data": {
      "text/plain": [
       "77"
      ]
     },
     "execution_count": 7,
     "metadata": {},
     "output_type": "execute_result"
    }
   ],
   "source": [
    "crimes['Community Area'].nunique()"
   ]
  },
  {
   "cell_type": "code",
   "execution_count": 85,
   "metadata": {},
   "outputs": [
    {
     "data": {
      "image/png": "[encoded data removed]",
      "text/plain": [
       "<Figure size 1296x576 with 1 Axes>"
      ]
     },
     "metadata": {
      "needs_background": "light"
     },
     "output_type": "display_data"
    }
   ],
   "source": [
    "fig = plt.figure(figsize = (18,8))\n",
    "crimes.groupby('Community Area')['Primary Type'].count().plot(kind = 'bar')\n",
    "plt.title('Number of crimes per Communnity_area')\n",
    "plt.xlabel('Community_Area')\n",
    "plt.ylabel('Number of Crimes')\n",
    "plt.grid()\n",
    "plt.xticks(rotation = 90)\n",
    "plt.legend()\n",
    "plt.show()"
   ]
  },
  {
   "cell_type": "code",
   "execution_count": 80,
   "metadata": {},
   "outputs": [
    {
     "data": {
      "text/html": [
       "<div>\n",
       "<style scoped>\n",
       "    .dataframe tbody tr th:only-of-type {\n",
       "        vertical-align: middle;\n",
       "    }\n",
       "\n",
       "    .dataframe tbody tr th {\n",
       "        vertical-align: top;\n",
       "    }\n",
       "\n",
       "    .dataframe thead th {\n",
       "        text-align: right;\n",
       "    }\n",
       "</style>\n",
       "<table border=\"1\" class=\"dataframe\">\n",
       "  <thead>\n",
       "    <tr style=\"text-align: right;\">\n",
       "      <th></th>\n",
       "      <th>count</th>\n",
       "      <th>unique</th>\n",
       "      <th>top</th>\n",
       "      <th>freq</th>\n",
       "    </tr>\n",
       "    <tr>\n",
       "      <th>Community Area</th>\n",
       "      <th></th>\n",
       "      <th></th>\n",
       "      <th></th>\n",
       "      <th></th>\n",
       "    </tr>\n",
       "  </thead>\n",
       "  <tbody>\n",
       "    <tr>\n",
       "      <th>1.0</th>\n",
       "      <td>18985</td>\n",
       "      <td>30</td>\n",
       "      <td>THEFT</td>\n",
       "      <td>5274</td>\n",
       "    </tr>\n",
       "    <tr>\n",
       "      <th>2.0</th>\n",
       "      <td>16983</td>\n",
       "      <td>28</td>\n",
       "      <td>THEFT</td>\n",
       "      <td>4147</td>\n",
       "    </tr>\n",
       "    <tr>\n",
       "      <th>3.0</th>\n",
       "      <td>17075</td>\n",
       "      <td>29</td>\n",
       "      <td>THEFT</td>\n",
       "      <td>4723</td>\n",
       "    </tr>\n",
       "    <tr>\n",
       "      <th>4.0</th>\n",
       "      <td>9616</td>\n",
       "      <td>28</td>\n",
       "      <td>THEFT</td>\n",
       "      <td>2858</td>\n",
       "    </tr>\n",
       "    <tr>\n",
       "      <th>5.0</th>\n",
       "      <td>6587</td>\n",
       "      <td>28</td>\n",
       "      <td>THEFT</td>\n",
       "      <td>2353</td>\n",
       "    </tr>\n",
       "    <tr>\n",
       "      <th>...</th>\n",
       "      <td>...</td>\n",
       "      <td>...</td>\n",
       "      <td>...</td>\n",
       "      <td>...</td>\n",
       "    </tr>\n",
       "    <tr>\n",
       "      <th>73.0</th>\n",
       "      <td>15403</td>\n",
       "      <td>29</td>\n",
       "      <td>BATTERY</td>\n",
       "      <td>2972</td>\n",
       "    </tr>\n",
       "    <tr>\n",
       "      <th>74.0</th>\n",
       "      <td>2755</td>\n",
       "      <td>26</td>\n",
       "      <td>THEFT</td>\n",
       "      <td>649</td>\n",
       "    </tr>\n",
       "    <tr>\n",
       "      <th>75.0</th>\n",
       "      <td>9831</td>\n",
       "      <td>27</td>\n",
       "      <td>THEFT</td>\n",
       "      <td>2142</td>\n",
       "    </tr>\n",
       "    <tr>\n",
       "      <th>76.0</th>\n",
       "      <td>8000</td>\n",
       "      <td>27</td>\n",
       "      <td>THEFT</td>\n",
       "      <td>2461</td>\n",
       "    </tr>\n",
       "    <tr>\n",
       "      <th>77.0</th>\n",
       "      <td>12644</td>\n",
       "      <td>28</td>\n",
       "      <td>THEFT</td>\n",
       "      <td>4012</td>\n",
       "    </tr>\n",
       "  </tbody>\n",
       "</table>\n",
       "<p>77 rows × 4 columns</p>\n",
       "</div>"
      ],
      "text/plain": [
       "                count unique      top  freq\n",
       "Community Area                             \n",
       "1.0             18985     30    THEFT  5274\n",
       "2.0             16983     28    THEFT  4147\n",
       "3.0             17075     29    THEFT  4723\n",
       "4.0              9616     28    THEFT  2858\n",
       "5.0              6587     28    THEFT  2353\n",
       "...               ...    ...      ...   ...\n",
       "73.0            15403     29  BATTERY  2972\n",
       "74.0             2755     26    THEFT   649\n",
       "75.0             9831     27    THEFT  2142\n",
       "76.0             8000     27    THEFT  2461\n",
       "77.0            12644     28    THEFT  4012\n",
       "\n",
       "[77 rows x 4 columns]"
      ]
     },
     "execution_count": 80,
     "metadata": {},
     "output_type": "execute_result"
    }
   ],
   "source": [
    "crimes.groupby('Community Area')['Primary Type'].describe()"
   ]
  },
  {
   "cell_type": "code",
   "execution_count": 81,
   "metadata": {},
   "outputs": [
    {
     "data": {
      "image/png": "[encoded data removed]",
      "text/plain": [
       "<Figure size 1296x576 with 1 Axes>"
      ]
     },
     "metadata": {
      "needs_background": "light"
     },
     "output_type": "display_data"
    }
   ],
   "source": [
    "fig = plt.figure(figsize = (18,8))\n",
    "plt.plot(crimes.groupby('Community Area').count(), 'm--')\n",
    "plt.title('Number of crimes per Communnity_area')\n",
    "plt.xlabel('Community Area')\n",
    "plt.ylabel('Number of Crimes')\n",
    "plt.grid()\n",
    "plt.xticks(rotation = 20)\n",
    "#plt.legend()\n",
    "plt.show()"
   ]
  },
  {
   "cell_type": "code",
   "execution_count": 82,
   "metadata": {},
   "outputs": [
    {
     "data": {
      "text/plain": [
       "array(['THEFT', 'DECEPTIVE PRACTICE', 'OTHER OFFENSE',\n",
       "       'MOTOR VEHICLE THEFT', 'CRIMINAL SEXUAL ASSAULT', 'BURGLARY',\n",
       "       'CRIMINAL DAMAGE', 'ASSAULT', 'OFFENSE INVOLVING CHILDREN',\n",
       "       'BATTERY', 'SEX OFFENSE', 'NARCOTICS', 'WEAPONS VIOLATION',\n",
       "       'ROBBERY', 'CRIMINAL TRESPASS', 'LIQUOR LAW VIOLATION',\n",
       "       'INTERFERENCE WITH PUBLIC OFFICER', 'ARSON', 'PROSTITUTION',\n",
       "       'PUBLIC PEACE VIOLATION', 'OBSCENITY', 'STALKING', 'KIDNAPPING',\n",
       "       'NON-CRIMINAL', 'INTIMIDATION',\n",
       "       'CONCEALED CARRY LICENSE VIOLATION', 'HOMICIDE', 'GAMBLING',\n",
       "       'OTHER NARCOTIC VIOLATION', 'PUBLIC INDECENCY',\n",
       "       'HUMAN TRAFFICKING', 'RITUALISM'], dtype=object)"
      ]
     },
     "execution_count": 82,
     "metadata": {},
     "output_type": "execute_result"
    }
   ],
   "source": [
    "crimes['Primary Type'].unique()"
   ]
  },
  {
   "cell_type": "code",
   "execution_count": 83,
   "metadata": {},
   "outputs": [
    {
     "data": {
      "text/plain": [
       "array(['WEAPONS VIOLATION'], dtype=object)"
      ]
     },
     "execution_count": 83,
     "metadata": {},
     "output_type": "execute_result"
    }
   ],
   "source": [
    "crimes.groupby('Community Area')['Primary Type'].max().unique()"
   ]
  },
  {
   "cell_type": "code",
   "execution_count": 84,
   "metadata": {},
   "outputs": [
    {
     "data": {
      "text/plain": [
       "array(['ARSON'], dtype=object)"
      ]
     },
     "execution_count": 84,
     "metadata": {},
     "output_type": "execute_result"
    }
   ],
   "source": [
    "crimes.groupby('Community Area')['Primary Type'].min().unique()"
   ]
  },
  {
   "cell_type": "markdown",
   "metadata": {},
   "source": [
    "Weapons violation is the most happened crime in community 25"
   ]
  },
  {
   "cell_type": "code",
   "execution_count": 12,
   "metadata": {},
   "outputs": [
    {
     "data": {
      "text/plain": [
       "array(['WEAPONS VIOLATION', 'THEFT', 'HOMICIDE', 'OTHER OFFENSE'],\n",
       "      dtype=object)"
      ]
     },
     "execution_count": 12,
     "metadata": {},
     "output_type": "execute_result"
    }
   ],
   "source": [
    "crimes.groupby('Location Description')['Primary Type'].max().unique()"
   ]
  },
  {
   "cell_type": "code",
   "execution_count": 86,
   "metadata": {},
   "outputs": [
    {
     "data": {
      "text/plain": [
       "array(['ARSON', 'ASSAULT', 'HOMICIDE', 'BATTERY', 'BURGLARY', 'THEFT'],\n",
       "      dtype=object)"
      ]
     },
     "execution_count": 86,
     "metadata": {},
     "output_type": "execute_result"
    }
   ],
   "source": [
    "crimes.groupby('Location Description')['Primary Type'].min().unique()"
   ]
  },
  {
   "cell_type": "markdown",
   "metadata": {},
   "source": [
    "WEAPONS VIOLATION, THEFT, HOMICIDE, OTHER OFFENSE these are the maximum numbers of crime happened per location "
   ]
  },
  {
   "cell_type": "code",
   "execution_count": 87,
   "metadata": {},
   "outputs": [],
   "source": [
    "x = crimes.groupby('Community Area')['Primary Type'].value_counts()"
   ]
  },
  {
   "cell_type": "code",
   "execution_count": 88,
   "metadata": {},
   "outputs": [
    {
     "data": {
      "text/plain": [
       "Community Area  Primary Type      \n",
       "1.0             THEFT                 5274\n",
       "                BATTERY               3559\n",
       "                CRIMINAL DAMAGE       2384\n",
       "                DECEPTIVE PRACTICE    1362\n",
       "                ASSAULT               1337\n",
       "Name: Primary Type, dtype: int64"
      ]
     },
     "execution_count": 88,
     "metadata": {},
     "output_type": "execute_result"
    }
   ],
   "source": [
    "x.head()"
   ]
  },
  {
   "cell_type": "code",
   "execution_count": 134,
   "metadata": {},
   "outputs": [
    {
     "data": {
      "text/html": [
       "<div>\n",
       "<style scoped>\n",
       "    .dataframe tbody tr th:only-of-type {\n",
       "        vertical-align: middle;\n",
       "    }\n",
       "\n",
       "    .dataframe tbody tr th {\n",
       "        vertical-align: top;\n",
       "    }\n",
       "\n",
       "    .dataframe thead th {\n",
       "        text-align: right;\n",
       "    }\n",
       "</style>\n",
       "<table border=\"1\" class=\"dataframe\">\n",
       "  <thead>\n",
       "    <tr style=\"text-align: right;\">\n",
       "      <th></th>\n",
       "      <th>ID</th>\n",
       "      <th>Community Area</th>\n",
       "      <th>Location Description</th>\n",
       "      <th>Arrest</th>\n",
       "      <th>Domestic</th>\n",
       "      <th>Date</th>\n",
       "      <th>Year</th>\n",
       "      <th>Month</th>\n",
       "      <th>Day</th>\n",
       "      <th>WeekDay</th>\n",
       "      <th>Hour</th>\n",
       "      <th>Minutes</th>\n",
       "    </tr>\n",
       "  </thead>\n",
       "  <tbody>\n",
       "    <tr>\n",
       "      <th>0</th>\n",
       "      <td>11646166</td>\n",
       "      <td>44.0</td>\n",
       "      <td>RESIDENCE</td>\n",
       "      <td>0</td>\n",
       "      <td>1</td>\n",
       "      <td>2018-09-01 00:01:00</td>\n",
       "      <td>2018</td>\n",
       "      <td>9</td>\n",
       "      <td>1</td>\n",
       "      <td>5</td>\n",
       "      <td>0</td>\n",
       "      <td>1</td>\n",
       "    </tr>\n",
       "    <tr>\n",
       "      <th>1</th>\n",
       "      <td>11645836</td>\n",
       "      <td>63.0</td>\n",
       "      <td>NaN</td>\n",
       "      <td>0</td>\n",
       "      <td>0</td>\n",
       "      <td>2016-05-01 00:25:00</td>\n",
       "      <td>2016</td>\n",
       "      <td>5</td>\n",
       "      <td>1</td>\n",
       "      <td>6</td>\n",
       "      <td>0</td>\n",
       "      <td>25</td>\n",
       "    </tr>\n",
       "    <tr>\n",
       "      <th>2</th>\n",
       "      <td>12014684</td>\n",
       "      <td>15.0</td>\n",
       "      <td>STREET</td>\n",
       "      <td>0</td>\n",
       "      <td>0</td>\n",
       "      <td>2020-03-17 21:30:00</td>\n",
       "      <td>2020</td>\n",
       "      <td>3</td>\n",
       "      <td>17</td>\n",
       "      <td>1</td>\n",
       "      <td>21</td>\n",
       "      <td>30</td>\n",
       "    </tr>\n",
       "    <tr>\n",
       "      <th>3</th>\n",
       "      <td>11645648</td>\n",
       "      <td>19.0</td>\n",
       "      <td>RESIDENCE</td>\n",
       "      <td>0</td>\n",
       "      <td>0</td>\n",
       "      <td>2018-01-01 08:00:00</td>\n",
       "      <td>2018</td>\n",
       "      <td>1</td>\n",
       "      <td>1</td>\n",
       "      <td>0</td>\n",
       "      <td>8</td>\n",
       "      <td>0</td>\n",
       "    </tr>\n",
       "    <tr>\n",
       "      <th>4</th>\n",
       "      <td>11864018</td>\n",
       "      <td>33.0</td>\n",
       "      <td>COMMERCIAL / BUSINESS OFFICE</td>\n",
       "      <td>0</td>\n",
       "      <td>0</td>\n",
       "      <td>2019-09-24 08:00:00</td>\n",
       "      <td>2019</td>\n",
       "      <td>9</td>\n",
       "      <td>24</td>\n",
       "      <td>1</td>\n",
       "      <td>8</td>\n",
       "      <td>0</td>\n",
       "    </tr>\n",
       "    <tr>\n",
       "      <th>...</th>\n",
       "      <td>...</td>\n",
       "      <td>...</td>\n",
       "      <td>...</td>\n",
       "      <td>...</td>\n",
       "      <td>...</td>\n",
       "      <td>...</td>\n",
       "      <td>...</td>\n",
       "      <td>...</td>\n",
       "      <td>...</td>\n",
       "      <td>...</td>\n",
       "      <td>...</td>\n",
       "      <td>...</td>\n",
       "    </tr>\n",
       "    <tr>\n",
       "      <th>1277227</th>\n",
       "      <td>12305659</td>\n",
       "      <td>68.0</td>\n",
       "      <td>RESIDENCE</td>\n",
       "      <td>0</td>\n",
       "      <td>0</td>\n",
       "      <td>2020-12-15 17:00:00</td>\n",
       "      <td>2020</td>\n",
       "      <td>12</td>\n",
       "      <td>15</td>\n",
       "      <td>1</td>\n",
       "      <td>17</td>\n",
       "      <td>0</td>\n",
       "    </tr>\n",
       "    <tr>\n",
       "      <th>1277228</th>\n",
       "      <td>12305418</td>\n",
       "      <td>1.0</td>\n",
       "      <td>PARK PROPERTY</td>\n",
       "      <td>0</td>\n",
       "      <td>0</td>\n",
       "      <td>2017-02-23 00:00:00</td>\n",
       "      <td>2017</td>\n",
       "      <td>2</td>\n",
       "      <td>23</td>\n",
       "      <td>3</td>\n",
       "      <td>0</td>\n",
       "      <td>0</td>\n",
       "    </tr>\n",
       "    <tr>\n",
       "      <th>1277229</th>\n",
       "      <td>12305346</td>\n",
       "      <td>10.0</td>\n",
       "      <td>RESIDENCE</td>\n",
       "      <td>0</td>\n",
       "      <td>1</td>\n",
       "      <td>2019-03-02 00:00:00</td>\n",
       "      <td>2019</td>\n",
       "      <td>3</td>\n",
       "      <td>2</td>\n",
       "      <td>5</td>\n",
       "      <td>0</td>\n",
       "      <td>0</td>\n",
       "    </tr>\n",
       "    <tr>\n",
       "      <th>1277230</th>\n",
       "      <td>12305191</td>\n",
       "      <td>39.0</td>\n",
       "      <td>RESIDENCE</td>\n",
       "      <td>0</td>\n",
       "      <td>0</td>\n",
       "      <td>2020-11-28 19:55:00</td>\n",
       "      <td>2020</td>\n",
       "      <td>11</td>\n",
       "      <td>28</td>\n",
       "      <td>5</td>\n",
       "      <td>19</td>\n",
       "      <td>55</td>\n",
       "    </tr>\n",
       "    <tr>\n",
       "      <th>1277231</th>\n",
       "      <td>12305374</td>\n",
       "      <td>38.0</td>\n",
       "      <td>RESIDENCE</td>\n",
       "      <td>0</td>\n",
       "      <td>1</td>\n",
       "      <td>2018-07-01 09:00:00</td>\n",
       "      <td>2018</td>\n",
       "      <td>7</td>\n",
       "      <td>1</td>\n",
       "      <td>6</td>\n",
       "      <td>9</td>\n",
       "      <td>0</td>\n",
       "    </tr>\n",
       "  </tbody>\n",
       "</table>\n",
       "<p>1277232 rows × 12 columns</p>\n",
       "</div>"
      ],
      "text/plain": [
       "               ID  Community Area          Location Description  Arrest  \\\n",
       "0        11646166            44.0                     RESIDENCE       0   \n",
       "1        11645836            63.0                           NaN       0   \n",
       "2        12014684            15.0                        STREET       0   \n",
       "3        11645648            19.0                     RESIDENCE       0   \n",
       "4        11864018            33.0  COMMERCIAL / BUSINESS OFFICE       0   \n",
       "...           ...             ...                           ...     ...   \n",
       "1277227  12305659            68.0                     RESIDENCE       0   \n",
       "1277228  12305418             1.0                 PARK PROPERTY       0   \n",
       "1277229  12305346            10.0                     RESIDENCE       0   \n",
       "1277230  12305191            39.0                     RESIDENCE       0   \n",
       "1277231  12305374            38.0                     RESIDENCE       0   \n",
       "\n",
       "         Domestic                 Date  Year  Month  Day  WeekDay  Hour  \\\n",
       "0               1  2018-09-01 00:01:00  2018      9    1        5     0   \n",
       "1               0  2016-05-01 00:25:00  2016      5    1        6     0   \n",
       "2               0  2020-03-17 21:30:00  2020      3   17        1    21   \n",
       "3               0  2018-01-01 08:00:00  2018      1    1        0     8   \n",
       "4               0  2019-09-24 08:00:00  2019      9   24        1     8   \n",
       "...           ...                  ...   ...    ...  ...      ...   ...   \n",
       "1277227         0  2020-12-15 17:00:00  2020     12   15        1    17   \n",
       "1277228         0  2017-02-23 00:00:00  2017      2   23        3     0   \n",
       "1277229         1  2019-03-02 00:00:00  2019      3    2        5     0   \n",
       "1277230         0  2020-11-28 19:55:00  2020     11   28        5    19   \n",
       "1277231         1  2018-07-01 09:00:00  2018      7    1        6     9   \n",
       "\n",
       "         Minutes  \n",
       "0              1  \n",
       "1             25  \n",
       "2             30  \n",
       "3              0  \n",
       "4              0  \n",
       "...          ...  \n",
       "1277227        0  \n",
       "1277228        0  \n",
       "1277229        0  \n",
       "1277230       55  \n",
       "1277231        0  \n",
       "\n",
       "[1277232 rows x 12 columns]"
      ]
     },
     "execution_count": 134,
     "metadata": {},
     "output_type": "execute_result"
    }
   ],
   "source": [
    "crimes_date = crimes[[\"ID\",\"Community Area\",\"Location Description\",\"Arrest\",\"Domestic\",\"Date\", \"Year\"]].copy()\n",
    "crimes_date[\"Month\"] = pd.DatetimeIndex(crimes[\"Date\"]).month\n",
    "crimes_date[\"Day\"] = pd.DatetimeIndex(crimes[\"Date\"]).day\n",
    "crimes_date[\"WeekDay\"] = pd.DatetimeIndex(crimes[\"Date\"]).dayofweek\n",
    "crimes_date[\"Hour\"] = pd.DatetimeIndex(crimes[\"Date\"]).hour\n",
    "crimes_date[\"Minutes\"] = pd.DatetimeIndex(crimes[\"Date\"]).minute\n",
    "crimes_date"
   ]
  },
  {
   "cell_type": "code",
   "execution_count": 135,
   "metadata": {},
   "outputs": [
    {
     "data": {
      "text/plain": [
       "2"
      ]
     },
     "execution_count": 135,
     "metadata": {},
     "output_type": "execute_result"
    }
   ],
   "source": [
    "crimes['Location Description'].isna().nunique()"
   ]
  },
  {
   "cell_type": "code",
   "execution_count": 136,
   "metadata": {},
   "outputs": [],
   "source": [
    "C_D_A = crimes_date.pivot_table(index = 'Community Area', columns = 'Domestic', values = 'Arrest', aggfunc = 'sum' )"
   ]
  },
  {
   "cell_type": "code",
   "execution_count": 137,
   "metadata": {},
   "outputs": [
    {
     "data": {
      "text/html": [
       "<div>\n",
       "<style scoped>\n",
       "    .dataframe tbody tr th:only-of-type {\n",
       "        vertical-align: middle;\n",
       "    }\n",
       "\n",
       "    .dataframe tbody tr th {\n",
       "        vertical-align: top;\n",
       "    }\n",
       "\n",
       "    .dataframe thead th {\n",
       "        text-align: right;\n",
       "    }\n",
       "</style>\n",
       "<table border=\"1\" class=\"dataframe\">\n",
       "  <thead>\n",
       "    <tr style=\"text-align: right;\">\n",
       "      <th></th>\n",
       "      <th>no</th>\n",
       "      <th>yes</th>\n",
       "    </tr>\n",
       "    <tr>\n",
       "      <th>Community Area</th>\n",
       "      <th></th>\n",
       "      <th></th>\n",
       "    </tr>\n",
       "  </thead>\n",
       "  <tbody>\n",
       "    <tr>\n",
       "      <th>1.0</th>\n",
       "      <td>2551</td>\n",
       "      <td>462</td>\n",
       "    </tr>\n",
       "    <tr>\n",
       "      <th>2.0</th>\n",
       "      <td>1611</td>\n",
       "      <td>434</td>\n",
       "    </tr>\n",
       "    <tr>\n",
       "      <th>3.0</th>\n",
       "      <td>2570</td>\n",
       "      <td>357</td>\n",
       "    </tr>\n",
       "    <tr>\n",
       "      <th>4.0</th>\n",
       "      <td>1027</td>\n",
       "      <td>172</td>\n",
       "    </tr>\n",
       "    <tr>\n",
       "      <th>5.0</th>\n",
       "      <td>608</td>\n",
       "      <td>70</td>\n",
       "    </tr>\n",
       "    <tr>\n",
       "      <th>...</th>\n",
       "      <td>...</td>\n",
       "      <td>...</td>\n",
       "    </tr>\n",
       "    <tr>\n",
       "      <th>73.0</th>\n",
       "      <td>2342</td>\n",
       "      <td>488</td>\n",
       "    </tr>\n",
       "    <tr>\n",
       "      <th>74.0</th>\n",
       "      <td>280</td>\n",
       "      <td>63</td>\n",
       "    </tr>\n",
       "    <tr>\n",
       "      <th>75.0</th>\n",
       "      <td>1489</td>\n",
       "      <td>268</td>\n",
       "    </tr>\n",
       "    <tr>\n",
       "      <th>76.0</th>\n",
       "      <td>1942</td>\n",
       "      <td>96</td>\n",
       "    </tr>\n",
       "    <tr>\n",
       "      <th>77.0</th>\n",
       "      <td>1407</td>\n",
       "      <td>229</td>\n",
       "    </tr>\n",
       "  </tbody>\n",
       "</table>\n",
       "<p>77 rows × 2 columns</p>\n",
       "</div>"
      ],
      "text/plain": [
       "                  no  yes\n",
       "Community Area           \n",
       "1.0             2551  462\n",
       "2.0             1611  434\n",
       "3.0             2570  357\n",
       "4.0             1027  172\n",
       "5.0              608   70\n",
       "...              ...  ...\n",
       "73.0            2342  488\n",
       "74.0             280   63\n",
       "75.0            1489  268\n",
       "76.0            1942   96\n",
       "77.0            1407  229\n",
       "\n",
       "[77 rows x 2 columns]"
      ]
     },
     "execution_count": 137,
     "metadata": {},
     "output_type": "execute_result"
    }
   ],
   "source": [
    "C_D_A.columns = ['no','yes']\n",
    "C_D_A"
   ]
  },
  {
   "cell_type": "markdown",
   "metadata": {},
   "source": [
    "## Test on domestic arrest per community"
   ]
  },
  {
   "cell_type": "code",
   "execution_count": 138,
   "metadata": {},
   "outputs": [],
   "source": [
    "from scipy.stats import ttest_ind"
   ]
  },
  {
   "cell_type": "code",
   "execution_count": 139,
   "metadata": {},
   "outputs": [
    {
     "data": {
      "text/plain": [
       "Ttest_indResult(statistic=6.313600183467634, pvalue=1.4536057041847327e-08)"
      ]
     },
     "execution_count": 139,
     "metadata": {},
     "output_type": "execute_result"
    }
   ],
   "source": [
    "ttest_ind(C_D_A.no,C_D_A.yes, equal_var=False)"
   ]
  },
  {
   "cell_type": "code",
   "execution_count": 140,
   "metadata": {},
   "outputs": [
    {
     "data": {
      "text/plain": [
       "Ttest_1sampResult(statistic=Community Area\n",
       "1.0     6.382405\n",
       "2.0     6.459899\n",
       "3.0     6.673006\n",
       "4.0     7.185018\n",
       "5.0     7.467316\n",
       "          ...   \n",
       "73.0    6.310447\n",
       "74.0    7.486689\n",
       "75.0    6.919325\n",
       "76.0    7.395358\n",
       "77.0    7.027263\n",
       "Name: yes, Length: 77, dtype: float64, pvalue=array([1.24778184e-08, 8.97152671e-09, 3.60346773e-09, 3.92841711e-10,\n",
       "       1.14440940e-10, 1.30667262e-09, 1.56812924e-10, 7.51511614e-09,\n",
       "       6.95885101e-11, 1.76991342e-10, 2.57482987e-10, 7.85715160e-11,\n",
       "       1.09023637e-10, 9.56773540e-10, 1.55992682e-08, 1.58245312e-09,\n",
       "       1.30667262e-09, 1.88030051e-10, 5.19358294e-07, 1.10487825e-09,\n",
       "       1.54504469e-09, 2.40608896e-08, 9.12250582e-06, 6.91820691e-09,\n",
       "       7.95252726e-01, 1.14896577e-07, 9.13145161e-08, 4.11235783e-08,\n",
       "       5.23397376e-04, 1.45892157e-06, 2.31920233e-09, 6.06073444e-10,\n",
       "       1.85768788e-10, 1.33968426e-10, 1.29111704e-09, 1.40619899e-10,\n",
       "       1.35601317e-10, 1.45380551e-08, 4.02429861e-10, 8.26000838e-09,\n",
       "       1.66598155e-10, 1.01268129e-07, 5.39349402e-03, 6.87053836e-05,\n",
       "       4.88005659e-10, 5.90453929e-06, 1.03861879e-10, 8.28418334e-10,\n",
       "       1.35139905e-04, 2.76838401e-10, 2.31920233e-09, 1.65999015e-09,\n",
       "       6.00720013e-07, 1.18726121e-09, 1.72758758e-10, 5.57113469e-10,\n",
       "       1.64593635e-10, 9.18574858e-09, 1.37254032e-10, 3.74342045e-10,\n",
       "       1.42717146e-06, 2.04645098e-10, 7.00051070e-09, 2.90539840e-10,\n",
       "       1.11820313e-09, 5.13875040e-06, 8.04957474e-05, 1.37365448e-05,\n",
       "       8.04957474e-05, 1.78342563e-09, 2.09468897e-03, 1.24574338e-10,\n",
       "       1.69345948e-08, 1.05129027e-10, 1.24554579e-09, 1.56812924e-10,\n",
       "       7.80131146e-10]))"
      ]
     },
     "execution_count": 140,
     "metadata": {},
     "output_type": "execute_result"
    }
   ],
   "source": [
    "ttest_1samp(C_D_A.no,C_D_A.yes)"
   ]
  },
  {
   "cell_type": "code",
   "execution_count": 95,
   "metadata": {},
   "outputs": [
    {
     "data": {
      "text/plain": [
       "<matplotlib.axes._subplots.AxesSubplot at 0x7fb26ce79e10>"
      ]
     },
     "execution_count": 95,
     "metadata": {},
     "output_type": "execute_result"
    },
    {
     "data": {
      "image/png": "[encoded data removed]",
      "text/plain": [
       "<Figure size 432x288 with 1 Axes>"
      ]
     },
     "metadata": {
      "needs_background": "light"
     },
     "output_type": "display_data"
    }
   ],
   "source": [
    "C_D_A.plot(kind='bar', stacked=True)"
   ]
  },
  {
   "cell_type": "code",
   "execution_count": 147,
   "metadata": {},
   "outputs": [],
   "source": [
    "#fig = plt.figure(figsize = (18,8))\n",
    "#sns.barplot(data = C_D_A )\n",
    "#fig.show()"
   ]
  },
  {
   "cell_type": "markdown",
   "metadata": {},
   "source": [
    "## Hypothesis Testing"
   ]
  },
  {
   "cell_type": "code",
   "execution_count": 97,
   "metadata": {},
   "outputs": [],
   "source": [
    "Arrest_per_month = crimes_date.pivot_table(index = 'Year', columns = 'Month',values = 'Arrest', aggfunc = 'sum')"
   ]
  },
  {
   "cell_type": "code",
   "execution_count": 98,
   "metadata": {},
   "outputs": [],
   "source": [
    "Arrest_per_month.columns = ['January', 'February', 'March', 'April', 'May', 'June', 'July', 'August', 'September','October','November', 'December']"
   ]
  },
  {
   "cell_type": "code",
   "execution_count": 99,
   "metadata": {},
   "outputs": [
    {
     "data": {
      "image/png": "[encoded data removed]",
      "text/plain": [
       "<Figure size 432x288 with 1 Axes>"
      ]
     },
     "metadata": {
      "needs_background": "light"
     },
     "output_type": "display_data"
    }
   ],
   "source": [
    "x= Arrest_per_month.plot(kind = 'bar')"
   ]
  },
  {
   "cell_type": "code",
   "execution_count": 100,
   "metadata": {},
   "outputs": [
    {
     "data": {
      "text/plain": [
       "F_onewayResult(statistic=0.5691707883417721, pvalue=0.84395424365613)"
      ]
     },
     "execution_count": 100,
     "metadata": {},
     "output_type": "execute_result"
    }
   ],
   "source": [
    "f_oneway(Arrest_per_month.January,Arrest_per_month.February, Arrest_per_month.March, Arrest_per_month.April, Arrest_per_month.May, Arrest_per_month.June, Arrest_per_month.July,Arrest_per_month.August,Arrest_per_month.September, Arrest_per_month.October, Arrest_per_month.November,Arrest_per_month.December)"
   ]
  },
  {
   "cell_type": "code",
   "execution_count": 101,
   "metadata": {},
   "outputs": [
    {
     "data": {
      "text/plain": [
       "F_onewayResult(statistic=7.670161739209173, pvalue=0.024315232638112246)"
      ]
     },
     "execution_count": 101,
     "metadata": {},
     "output_type": "execute_result"
    }
   ],
   "source": [
    "f_oneway(Arrest_per_month.January,Arrest_per_month.February)"
   ]
  },
  {
   "cell_type": "markdown",
   "metadata": {},
   "source": [
    "Since the p-value is very high, So that we cant reject the null hypothesis, It means that the arrest is not changing per month"
   ]
  },
  {
   "cell_type": "code",
   "execution_count": 102,
   "metadata": {},
   "outputs": [
    {
     "name": "stderr",
     "output_type": "stream",
     "text": [
      "/Users/yadavvinamrata/opt/anaconda3/lib/python3.7/site-packages/ipykernel_launcher.py:3: UserWarning: Matplotlib is currently using module://ipykernel.pylab.backend_inline, which is a non-GUI backend, so cannot show the figure.\n",
      "  This is separate from the ipykernel package so we can avoid doing imports until\n"
     ]
    },
    {
     "data": {
      "image/png": "[encoded data removed]",
      "text/plain": [
       "<Figure size 1296x576 with 1 Axes>"
      ]
     },
     "metadata": {
      "needs_background": "light"
     },
     "output_type": "display_data"
    }
   ],
   "source": [
    "fig = plt.figure(figsize = (18,8))\n",
    "sns.barplot(data = Arrest_per_month)\n",
    "fig.show()"
   ]
  },
  {
   "cell_type": "code",
   "execution_count": 113,
   "metadata": {},
   "outputs": [],
   "source": [
    "df = Arrest_per_month.iloc[:4:]"
   ]
  },
  {
   "cell_type": "markdown",
   "metadata": {},
   "source": [
    "I exclude the column 2020"
   ]
  },
  {
   "cell_type": "code",
   "execution_count": 114,
   "metadata": {},
   "outputs": [
    {
     "data": {
      "text/plain": [
       "F_onewayResult(statistic=8.608444943810555, pvalue=3.429335808134286e-07)"
      ]
     },
     "execution_count": 114,
     "metadata": {},
     "output_type": "execute_result"
    }
   ],
   "source": [
    "f_oneway(df.January,df.February, df.March, df.April, df.May, df.June, df.July,df.August,df.September, df.October, df.November,df.December)"
   ]
  },
  {
   "cell_type": "code",
   "execution_count": 104,
   "metadata": {},
   "outputs": [
    {
     "name": "stderr",
     "output_type": "stream",
     "text": [
      "/Users/yadavvinamrata/opt/anaconda3/lib/python3.7/site-packages/ipykernel_launcher.py:3: UserWarning: Matplotlib is currently using module://ipykernel.pylab.backend_inline, which is a non-GUI backend, so cannot show the figure.\n",
      "  This is separate from the ipykernel package so we can avoid doing imports until\n"
     ]
    },
    {
     "data": {
      "image/png": "[encoded data removed]",
      "text/plain": [
       "<Figure size 1296x576 with 1 Axes>"
      ]
     },
     "metadata": {
      "needs_background": "light"
     },
     "output_type": "display_data"
    }
   ],
   "source": [
    "fig = plt.figure(figsize = (18,8))\n",
    "sns.barplot(data = df)\n",
    "fig.show()"
   ]
  },
  {
   "cell_type": "code",
   "execution_count": 105,
   "metadata": {},
   "outputs": [],
   "source": [
    "crime_per_month =  crimes_date.pivot_table(index = 'Year', columns = 'Month',values = 'ID', aggfunc = 'count')"
   ]
  },
  {
   "cell_type": "code",
   "execution_count": 106,
   "metadata": {},
   "outputs": [],
   "source": [
    "crime_per_month.columns = ['January', 'February', 'March', 'April', 'May', 'June', 'July', 'August', 'September','October','November', 'December']"
   ]
  },
  {
   "cell_type": "code",
   "execution_count": 107,
   "metadata": {},
   "outputs": [
    {
     "data": {
      "text/plain": [
       "F_onewayResult(statistic=2.680046426653919, pvalue=0.009092008729090132)"
      ]
     },
     "execution_count": 107,
     "metadata": {},
     "output_type": "execute_result"
    }
   ],
   "source": [
    "f_oneway(crime_per_month.January, crime_per_month.February, crime_per_month.March, crime_per_month.April, crime_per_month.May, crime_per_month.June, crime_per_month.July,crime_per_month.August, crime_per_month.September, crime_per_month.October, crime_per_month.November,crime_per_month.December )"
   ]
  },
  {
   "cell_type": "markdown",
   "metadata": {},
   "source": [
    "As we can see that the crime per month is changing with respect to year because the pvalue is less so, that we can reject the null hypothesis"
   ]
  },
  {
   "cell_type": "code",
   "execution_count": 108,
   "metadata": {},
   "outputs": [
    {
     "data": {
      "text/plain": [
       "<matplotlib.axes._subplots.AxesSubplot at 0x7fb24d031910>"
      ]
     },
     "execution_count": 108,
     "metadata": {},
     "output_type": "execute_result"
    },
    {
     "data": {
      "image/png": "[encoded data removed]",
      "text/plain": [
       "<Figure size 432x288 with 1 Axes>"
      ]
     },
     "metadata": {
      "needs_background": "light"
     },
     "output_type": "display_data"
    }
   ],
   "source": [
    "crime_per_month.plot(kind = 'bar')"
   ]
  },
  {
   "cell_type": "code",
   "execution_count": 109,
   "metadata": {},
   "outputs": [
    {
     "name": "stderr",
     "output_type": "stream",
     "text": [
      "/Users/yadavvinamrata/opt/anaconda3/lib/python3.7/site-packages/ipykernel_launcher.py:3: UserWarning: Matplotlib is currently using module://ipykernel.pylab.backend_inline, which is a non-GUI backend, so cannot show the figure.\n",
      "  This is separate from the ipykernel package so we can avoid doing imports until\n"
     ]
    },
    {
     "data": {
      "image/png": "[encoded data removed]",
      "text/plain": [
       "<Figure size 1296x576 with 1 Axes>"
      ]
     },
     "metadata": {
      "needs_background": "light"
     },
     "output_type": "display_data"
    }
   ],
   "source": [
    "fig = plt.figure(figsize = (18,8))\n",
    "sns.barplot(data = crime_per_month)\n",
    "fig.show()"
   ]
  },
  {
   "cell_type": "code",
   "execution_count": 110,
   "metadata": {},
   "outputs": [],
   "source": [
    "from scipy.stats import ttest_1samp"
   ]
  },
  {
   "cell_type": "code",
   "execution_count": 145,
   "metadata": {},
   "outputs": [],
   "source": [
    "hypo = crimes.pivot_table(index = 'Community Area',columns = 'Primary Type',values = 'Arrest', aggfunc = 'count')"
   ]
  },
  {
   "cell_type": "code",
   "execution_count": 146,
   "metadata": {
    "scrolled": true
   },
   "outputs": [
    {
     "data": {
      "text/html": [
       "<div>\n",
       "<style scoped>\n",
       "    .dataframe tbody tr th:only-of-type {\n",
       "        vertical-align: middle;\n",
       "    }\n",
       "\n",
       "    .dataframe tbody tr th {\n",
       "        vertical-align: top;\n",
       "    }\n",
       "\n",
       "    .dataframe thead th {\n",
       "        text-align: right;\n",
       "    }\n",
       "</style>\n",
       "<table border=\"1\" class=\"dataframe\">\n",
       "  <thead>\n",
       "    <tr style=\"text-align: right;\">\n",
       "      <th>Primary Type</th>\n",
       "      <th>ARSON</th>\n",
       "      <th>ASSAULT</th>\n",
       "      <th>BATTERY</th>\n",
       "      <th>BURGLARY</th>\n",
       "      <th>CONCEALED CARRY LICENSE VIOLATION</th>\n",
       "      <th>CRIMINAL DAMAGE</th>\n",
       "      <th>CRIMINAL SEXUAL ASSAULT</th>\n",
       "      <th>CRIMINAL TRESPASS</th>\n",
       "      <th>DECEPTIVE PRACTICE</th>\n",
       "      <th>GAMBLING</th>\n",
       "      <th>...</th>\n",
       "      <th>OTHER OFFENSE</th>\n",
       "      <th>PROSTITUTION</th>\n",
       "      <th>PUBLIC INDECENCY</th>\n",
       "      <th>PUBLIC PEACE VIOLATION</th>\n",
       "      <th>RITUALISM</th>\n",
       "      <th>ROBBERY</th>\n",
       "      <th>SEX OFFENSE</th>\n",
       "      <th>STALKING</th>\n",
       "      <th>THEFT</th>\n",
       "      <th>WEAPONS VIOLATION</th>\n",
       "    </tr>\n",
       "    <tr>\n",
       "      <th>Community Area</th>\n",
       "      <th></th>\n",
       "      <th></th>\n",
       "      <th></th>\n",
       "      <th></th>\n",
       "      <th></th>\n",
       "      <th></th>\n",
       "      <th></th>\n",
       "      <th></th>\n",
       "      <th></th>\n",
       "      <th></th>\n",
       "      <th></th>\n",
       "      <th></th>\n",
       "      <th></th>\n",
       "      <th></th>\n",
       "      <th></th>\n",
       "      <th></th>\n",
       "      <th></th>\n",
       "      <th></th>\n",
       "      <th></th>\n",
       "      <th></th>\n",
       "      <th></th>\n",
       "    </tr>\n",
       "  </thead>\n",
       "  <tbody>\n",
       "    <tr>\n",
       "      <th>1.0</th>\n",
       "      <td>8.0</td>\n",
       "      <td>1337.0</td>\n",
       "      <td>3559.0</td>\n",
       "      <td>841.0</td>\n",
       "      <td>NaN</td>\n",
       "      <td>2384.0</td>\n",
       "      <td>167.0</td>\n",
       "      <td>655.0</td>\n",
       "      <td>1362.0</td>\n",
       "      <td>2.0</td>\n",
       "      <td>...</td>\n",
       "      <td>1080.0</td>\n",
       "      <td>19.0</td>\n",
       "      <td>2.0</td>\n",
       "      <td>69.0</td>\n",
       "      <td>NaN</td>\n",
       "      <td>698.0</td>\n",
       "      <td>134.0</td>\n",
       "      <td>19.0</td>\n",
       "      <td>5274.0</td>\n",
       "      <td>163.0</td>\n",
       "    </tr>\n",
       "    <tr>\n",
       "      <th>2.0</th>\n",
       "      <td>19.0</td>\n",
       "      <td>1163.0</td>\n",
       "      <td>2916.0</td>\n",
       "      <td>1029.0</td>\n",
       "      <td>2.0</td>\n",
       "      <td>2185.0</td>\n",
       "      <td>93.0</td>\n",
       "      <td>464.0</td>\n",
       "      <td>1556.0</td>\n",
       "      <td>3.0</td>\n",
       "      <td>...</td>\n",
       "      <td>1139.0</td>\n",
       "      <td>3.0</td>\n",
       "      <td>NaN</td>\n",
       "      <td>60.0</td>\n",
       "      <td>NaN</td>\n",
       "      <td>564.0</td>\n",
       "      <td>107.0</td>\n",
       "      <td>11.0</td>\n",
       "      <td>4147.0</td>\n",
       "      <td>144.0</td>\n",
       "    </tr>\n",
       "    <tr>\n",
       "      <th>3.0</th>\n",
       "      <td>12.0</td>\n",
       "      <td>1305.0</td>\n",
       "      <td>3251.0</td>\n",
       "      <td>692.0</td>\n",
       "      <td>2.0</td>\n",
       "      <td>1490.0</td>\n",
       "      <td>175.0</td>\n",
       "      <td>556.0</td>\n",
       "      <td>1957.0</td>\n",
       "      <td>3.0</td>\n",
       "      <td>...</td>\n",
       "      <td>926.0</td>\n",
       "      <td>1.0</td>\n",
       "      <td>NaN</td>\n",
       "      <td>112.0</td>\n",
       "      <td>NaN</td>\n",
       "      <td>528.0</td>\n",
       "      <td>120.0</td>\n",
       "      <td>3.0</td>\n",
       "      <td>4723.0</td>\n",
       "      <td>136.0</td>\n",
       "    </tr>\n",
       "    <tr>\n",
       "      <th>4.0</th>\n",
       "      <td>6.0</td>\n",
       "      <td>559.0</td>\n",
       "      <td>1508.0</td>\n",
       "      <td>552.0</td>\n",
       "      <td>2.0</td>\n",
       "      <td>1062.0</td>\n",
       "      <td>102.0</td>\n",
       "      <td>273.0</td>\n",
       "      <td>1140.0</td>\n",
       "      <td>1.0</td>\n",
       "      <td>...</td>\n",
       "      <td>531.0</td>\n",
       "      <td>1.0</td>\n",
       "      <td>NaN</td>\n",
       "      <td>30.0</td>\n",
       "      <td>NaN</td>\n",
       "      <td>215.0</td>\n",
       "      <td>51.0</td>\n",
       "      <td>13.0</td>\n",
       "      <td>2858.0</td>\n",
       "      <td>47.0</td>\n",
       "    </tr>\n",
       "    <tr>\n",
       "      <th>5.0</th>\n",
       "      <td>9.0</td>\n",
       "      <td>314.0</td>\n",
       "      <td>586.0</td>\n",
       "      <td>508.0</td>\n",
       "      <td>NaN</td>\n",
       "      <td>668.0</td>\n",
       "      <td>35.0</td>\n",
       "      <td>185.0</td>\n",
       "      <td>941.0</td>\n",
       "      <td>1.0</td>\n",
       "      <td>...</td>\n",
       "      <td>305.0</td>\n",
       "      <td>2.0</td>\n",
       "      <td>1.0</td>\n",
       "      <td>29.0</td>\n",
       "      <td>NaN</td>\n",
       "      <td>186.0</td>\n",
       "      <td>29.0</td>\n",
       "      <td>8.0</td>\n",
       "      <td>2353.0</td>\n",
       "      <td>22.0</td>\n",
       "    </tr>\n",
       "    <tr>\n",
       "      <th>...</th>\n",
       "      <td>...</td>\n",
       "      <td>...</td>\n",
       "      <td>...</td>\n",
       "      <td>...</td>\n",
       "      <td>...</td>\n",
       "      <td>...</td>\n",
       "      <td>...</td>\n",
       "      <td>...</td>\n",
       "      <td>...</td>\n",
       "      <td>...</td>\n",
       "      <td>...</td>\n",
       "      <td>...</td>\n",
       "      <td>...</td>\n",
       "      <td>...</td>\n",
       "      <td>...</td>\n",
       "      <td>...</td>\n",
       "      <td>...</td>\n",
       "      <td>...</td>\n",
       "      <td>...</td>\n",
       "      <td>...</td>\n",
       "      <td>...</td>\n",
       "    </tr>\n",
       "    <tr>\n",
       "      <th>73.0</th>\n",
       "      <td>20.0</td>\n",
       "      <td>1212.0</td>\n",
       "      <td>2972.0</td>\n",
       "      <td>789.0</td>\n",
       "      <td>6.0</td>\n",
       "      <td>1985.0</td>\n",
       "      <td>77.0</td>\n",
       "      <td>478.0</td>\n",
       "      <td>1133.0</td>\n",
       "      <td>3.0</td>\n",
       "      <td>...</td>\n",
       "      <td>1274.0</td>\n",
       "      <td>1.0</td>\n",
       "      <td>NaN</td>\n",
       "      <td>70.0</td>\n",
       "      <td>NaN</td>\n",
       "      <td>559.0</td>\n",
       "      <td>56.0</td>\n",
       "      <td>12.0</td>\n",
       "      <td>2854.0</td>\n",
       "      <td>372.0</td>\n",
       "    </tr>\n",
       "    <tr>\n",
       "      <th>74.0</th>\n",
       "      <td>4.0</td>\n",
       "      <td>167.0</td>\n",
       "      <td>421.0</td>\n",
       "      <td>116.0</td>\n",
       "      <td>2.0</td>\n",
       "      <td>331.0</td>\n",
       "      <td>10.0</td>\n",
       "      <td>107.0</td>\n",
       "      <td>437.0</td>\n",
       "      <td>NaN</td>\n",
       "      <td>...</td>\n",
       "      <td>256.0</td>\n",
       "      <td>1.0</td>\n",
       "      <td>NaN</td>\n",
       "      <td>10.0</td>\n",
       "      <td>NaN</td>\n",
       "      <td>31.0</td>\n",
       "      <td>13.0</td>\n",
       "      <td>3.0</td>\n",
       "      <td>649.0</td>\n",
       "      <td>7.0</td>\n",
       "    </tr>\n",
       "    <tr>\n",
       "      <th>75.0</th>\n",
       "      <td>11.0</td>\n",
       "      <td>790.0</td>\n",
       "      <td>1836.0</td>\n",
       "      <td>478.0</td>\n",
       "      <td>4.0</td>\n",
       "      <td>1185.0</td>\n",
       "      <td>42.0</td>\n",
       "      <td>252.0</td>\n",
       "      <td>908.0</td>\n",
       "      <td>NaN</td>\n",
       "      <td>...</td>\n",
       "      <td>796.0</td>\n",
       "      <td>NaN</td>\n",
       "      <td>2.0</td>\n",
       "      <td>80.0</td>\n",
       "      <td>NaN</td>\n",
       "      <td>226.0</td>\n",
       "      <td>35.0</td>\n",
       "      <td>6.0</td>\n",
       "      <td>2142.0</td>\n",
       "      <td>178.0</td>\n",
       "    </tr>\n",
       "    <tr>\n",
       "      <th>76.0</th>\n",
       "      <td>3.0</td>\n",
       "      <td>389.0</td>\n",
       "      <td>949.0</td>\n",
       "      <td>70.0</td>\n",
       "      <td>102.0</td>\n",
       "      <td>508.0</td>\n",
       "      <td>19.0</td>\n",
       "      <td>570.0</td>\n",
       "      <td>1180.0</td>\n",
       "      <td>NaN</td>\n",
       "      <td>...</td>\n",
       "      <td>473.0</td>\n",
       "      <td>NaN</td>\n",
       "      <td>NaN</td>\n",
       "      <td>100.0</td>\n",
       "      <td>NaN</td>\n",
       "      <td>38.0</td>\n",
       "      <td>30.0</td>\n",
       "      <td>10.0</td>\n",
       "      <td>2461.0</td>\n",
       "      <td>32.0</td>\n",
       "    </tr>\n",
       "    <tr>\n",
       "      <th>77.0</th>\n",
       "      <td>6.0</td>\n",
       "      <td>818.0</td>\n",
       "      <td>2121.0</td>\n",
       "      <td>586.0</td>\n",
       "      <td>1.0</td>\n",
       "      <td>1193.0</td>\n",
       "      <td>121.0</td>\n",
       "      <td>404.0</td>\n",
       "      <td>1497.0</td>\n",
       "      <td>NaN</td>\n",
       "      <td>...</td>\n",
       "      <td>686.0</td>\n",
       "      <td>2.0</td>\n",
       "      <td>1.0</td>\n",
       "      <td>37.0</td>\n",
       "      <td>NaN</td>\n",
       "      <td>389.0</td>\n",
       "      <td>77.0</td>\n",
       "      <td>10.0</td>\n",
       "      <td>4012.0</td>\n",
       "      <td>44.0</td>\n",
       "    </tr>\n",
       "  </tbody>\n",
       "</table>\n",
       "<p>77 rows × 32 columns</p>\n",
       "</div>"
      ],
      "text/plain": [
       "Primary Type    ARSON  ASSAULT  BATTERY  BURGLARY  \\\n",
       "Community Area                                      \n",
       "1.0               8.0   1337.0   3559.0     841.0   \n",
       "2.0              19.0   1163.0   2916.0    1029.0   \n",
       "3.0              12.0   1305.0   3251.0     692.0   \n",
       "4.0               6.0    559.0   1508.0     552.0   \n",
       "5.0               9.0    314.0    586.0     508.0   \n",
       "...               ...      ...      ...       ...   \n",
       "73.0             20.0   1212.0   2972.0     789.0   \n",
       "74.0              4.0    167.0    421.0     116.0   \n",
       "75.0             11.0    790.0   1836.0     478.0   \n",
       "76.0              3.0    389.0    949.0      70.0   \n",
       "77.0              6.0    818.0   2121.0     586.0   \n",
       "\n",
       "Primary Type    CONCEALED CARRY LICENSE VIOLATION  CRIMINAL DAMAGE  \\\n",
       "Community Area                                                       \n",
       "1.0                                           NaN           2384.0   \n",
       "2.0                                           2.0           2185.0   \n",
       "3.0                                           2.0           1490.0   \n",
       "4.0                                           2.0           1062.0   \n",
       "5.0                                           NaN            668.0   \n",
       "...                                           ...              ...   \n",
       "73.0                                          6.0           1985.0   \n",
       "74.0                                          2.0            331.0   \n",
       "75.0                                          4.0           1185.0   \n",
       "76.0                                        102.0            508.0   \n",
       "77.0                                          1.0           1193.0   \n",
       "\n",
       "Primary Type    CRIMINAL SEXUAL ASSAULT  CRIMINAL TRESPASS  \\\n",
       "Community Area                                               \n",
       "1.0                               167.0              655.0   \n",
       "2.0                                93.0              464.0   \n",
       "3.0                               175.0              556.0   \n",
       "4.0                               102.0              273.0   \n",
       "5.0                                35.0              185.0   \n",
       "...                                 ...                ...   \n",
       "73.0                               77.0              478.0   \n",
       "74.0                               10.0              107.0   \n",
       "75.0                               42.0              252.0   \n",
       "76.0                               19.0              570.0   \n",
       "77.0                              121.0              404.0   \n",
       "\n",
       "Primary Type    DECEPTIVE PRACTICE  GAMBLING  ...  OTHER OFFENSE  \\\n",
       "Community Area                                ...                  \n",
       "1.0                         1362.0       2.0  ...         1080.0   \n",
       "2.0                         1556.0       3.0  ...         1139.0   \n",
       "3.0                         1957.0       3.0  ...          926.0   \n",
       "4.0                         1140.0       1.0  ...          531.0   \n",
       "5.0                          941.0       1.0  ...          305.0   \n",
       "...                            ...       ...  ...            ...   \n",
       "73.0                        1133.0       3.0  ...         1274.0   \n",
       "74.0                         437.0       NaN  ...          256.0   \n",
       "75.0                         908.0       NaN  ...          796.0   \n",
       "76.0                        1180.0       NaN  ...          473.0   \n",
       "77.0                        1497.0       NaN  ...          686.0   \n",
       "\n",
       "Primary Type    PROSTITUTION  PUBLIC INDECENCY  PUBLIC PEACE VIOLATION  \\\n",
       "Community Area                                                           \n",
       "1.0                     19.0               2.0                    69.0   \n",
       "2.0                      3.0               NaN                    60.0   \n",
       "3.0                      1.0               NaN                   112.0   \n",
       "4.0                      1.0               NaN                    30.0   \n",
       "5.0                      2.0               1.0                    29.0   \n",
       "...                      ...               ...                     ...   \n",
       "73.0                     1.0               NaN                    70.0   \n",
       "74.0                     1.0               NaN                    10.0   \n",
       "75.0                     NaN               2.0                    80.0   \n",
       "76.0                     NaN               NaN                   100.0   \n",
       "77.0                     2.0               1.0                    37.0   \n",
       "\n",
       "Primary Type    RITUALISM  ROBBERY  SEX OFFENSE  STALKING   THEFT  \\\n",
       "Community Area                                                      \n",
       "1.0                   NaN    698.0        134.0      19.0  5274.0   \n",
       "2.0                   NaN    564.0        107.0      11.0  4147.0   \n",
       "3.0                   NaN    528.0        120.0       3.0  4723.0   \n",
       "4.0                   NaN    215.0         51.0      13.0  2858.0   \n",
       "5.0                   NaN    186.0         29.0       8.0  2353.0   \n",
       "...                   ...      ...          ...       ...     ...   \n",
       "73.0                  NaN    559.0         56.0      12.0  2854.0   \n",
       "74.0                  NaN     31.0         13.0       3.0   649.0   \n",
       "75.0                  NaN    226.0         35.0       6.0  2142.0   \n",
       "76.0                  NaN     38.0         30.0      10.0  2461.0   \n",
       "77.0                  NaN    389.0         77.0      10.0  4012.0   \n",
       "\n",
       "Primary Type    WEAPONS VIOLATION  \n",
       "Community Area                     \n",
       "1.0                         163.0  \n",
       "2.0                         144.0  \n",
       "3.0                         136.0  \n",
       "4.0                          47.0  \n",
       "5.0                          22.0  \n",
       "...                           ...  \n",
       "73.0                        372.0  \n",
       "74.0                          7.0  \n",
       "75.0                        178.0  \n",
       "76.0                         32.0  \n",
       "77.0                         44.0  \n",
       "\n",
       "[77 rows x 32 columns]"
      ]
     },
     "execution_count": 146,
     "metadata": {},
     "output_type": "execute_result"
    }
   ],
   "source": [
    "hypo"
   ]
  },
  {
   "cell_type": "code",
   "execution_count": 132,
   "metadata": {},
   "outputs": [
    {
     "data": {
      "text/plain": [
       "Ttest_1sampResult(statistic=Community Area\n",
       "1.0    -2.374018\n",
       "2.0     0.009056\n",
       "3.0    -5.736570\n",
       "4.0    -6.053352\n",
       "5.0    -1.439169\n",
       "          ...   \n",
       "73.0   -1.125362\n",
       "74.0   -0.884256\n",
       "75.0   -1.917674\n",
       "76.0   -3.236794\n",
       "77.0   -1.509975\n",
       "Name: ASSAULT, Length: 77, dtype: float64, pvalue=array([2.01212873e-02, 9.92798387e-01, 1.86444072e-07, 5.00293152e-08,\n",
       "       1.54208571e-01, 5.62208147e-06, 7.87028352e-01, 5.09919646e-04,\n",
       "       2.72266518e-01, 7.13558296e-01, 9.92259492e-02, 3.92581760e-01,\n",
       "       6.92413107e-03, 3.02163624e-01, 2.67692563e-02, 6.35751294e-01,\n",
       "       1.34036089e-01, 2.64343890e-01, 3.71875839e-01, 4.30564895e-01,\n",
       "       2.86116637e-02, 3.26404986e-04, 1.89550256e-01, 3.50030001e-02,\n",
       "       5.51636239e-03, 5.90343621e-02, 2.98248589e-01, 2.59091329e-01,\n",
       "       1.46913554e-02, 3.54868842e-02, 9.27347762e-03, 5.52721586e-05,\n",
       "       3.69696920e-02, 4.14176480e-03, 5.03606946e-01, 2.52148790e-02,\n",
       "       5.80923218e-01, 9.64425585e-01, 8.66656613e-02, 1.58577625e-01,\n",
       "       4.51841556e-04, 5.82753962e-03, 2.30535815e-02, 1.94178074e-04,\n",
       "       1.25837669e-01, 1.86286322e-06, 5.24826520e-01, 7.77594428e-02,\n",
       "       7.40538308e-06, 7.57399947e-07, 3.21440775e-04, 1.15831578e-04,\n",
       "       3.18370784e-02, 2.67233909e-04, 9.95472734e-01, 4.15893781e-01,\n",
       "       3.60286595e-02, 4.37412238e-02, 5.57862666e-04, 2.35890197e-02,\n",
       "       1.50032771e-02, 5.82898325e-02, 5.19554244e-02, 5.76518958e-01,\n",
       "       9.91333351e-04, 4.51910863e-02, 1.15341773e-02, 7.06854252e-03,\n",
       "       4.58983628e-03, 8.56757494e-01, 3.53548485e-04, 6.10527467e-01,\n",
       "       2.63977241e-01, 3.79346714e-01, 5.89098185e-02, 1.79203501e-03,\n",
       "       1.35196376e-01]))"
      ]
     },
     "execution_count": 132,
     "metadata": {},
     "output_type": "execute_result"
    }
   ],
   "source": [
    "ttest_1samp(hypo.ARSON, hypo.ASSAULT)"
   ]
  },
  {
   "cell_type": "code",
   "execution_count": 153,
   "metadata": {},
   "outputs": [
    {
     "data": {
      "text/plain": [
       "<matplotlib.axes._subplots.AxesSubplot at 0x7fb23dd25f90>"
      ]
     },
     "execution_count": 153,
     "metadata": {},
     "output_type": "execute_result"
    },
    {
     "data": {
      "image/png": "[encoded data removed]",
      "text/plain": [
       "<Figure size 432x288 with 1 Axes>"
      ]
     },
     "metadata": {
      "needs_background": "light"
     },
     "output_type": "display_data"
    }
   ],
   "source": [
    "crimes.pivot_table(index = 'Community Area',columns = 'Primary Type', values = 'Case Number', aggfunc = 'count').plot()"
   ]
  },
  {
   "cell_type": "code",
   "execution_count": null,
   "metadata": {},
   "outputs": [],
   "source": []
  },
  {
   "cell_type": "code",
   "execution_count": null,
   "metadata": {},
   "outputs": [],
   "source": []
  },
  {
   "cell_type": "code",
   "execution_count": null,
   "metadata": {},
   "outputs": [],
   "source": []
  },
  {
   "cell_type": "code",
   "execution_count": null,
   "metadata": {},
   "outputs": [],
   "source": []
  },
  {
   "cell_type": "code",
   "execution_count": null,
   "metadata": {},
   "outputs": [],
   "source": []
  },
  {
   "cell_type": "markdown",
   "metadata": {},
   "source": []
  },
  {
   "cell_type": "code",
   "execution_count": null,
   "metadata": {},
   "outputs": [],
   "source": []
  },
  {
   "cell_type": "code",
   "execution_count": null,
   "metadata": {},
   "outputs": [],
   "source": []
  },
  {
   "cell_type": "code",
   "execution_count": null,
   "metadata": {},
   "outputs": [],
   "source": [
    "#pip install folium"
   ]
  },
  {
   "cell_type": "code",
   "execution_count": null,
   "metadata": {},
   "outputs": [],
   "source": [
    "import folium"
   ]
  },
  {
   "cell_type": "code",
   "execution_count": null,
   "metadata": {},
   "outputs": [],
   "source": [
    "MapOfChicago = folium.Map(location=[41.881832, -87.623177],\n",
    "                         zoom_start=13, tiles=\"CartoDB dark_matter\")"
   ]
  },
  {
   "cell_type": "code",
   "execution_count": null,
   "metadata": {},
   "outputs": [],
   "source": [
    "MapOfChicago"
   ]
  },
  {
   "cell_type": "code",
   "execution_count": null,
   "metadata": {},
   "outputs": [],
   "source": [
    "L = crimes['Location'].dropna()\n",
    "L.nunique()"
   ]
  },
  {
   "cell_type": "code",
   "execution_count": null,
   "metadata": {},
   "outputs": [],
   "source": [
    "n = crimes['Case Number'].count()"
   ]
  },
  {
   "cell_type": "code",
   "execution_count": null,
   "metadata": {},
   "outputs": [],
   "source": [
    "CR_index = pd.DataFrame({\"Raw_String\" : L , \"ValueCount\":n})\n",
    "CR_index.index = range(len(L))\n",
    "CR_index.head()"
   ]
  },
  {
   "cell_type": "code",
   "execution_count": null,
   "metadata": {},
   "outputs": [],
   "source": [
    "def Location_extractor(Raw_Str):\n",
    "    preProcess = Raw_Str[1:-1].split(',')\n",
    "    lat =  float(preProcess[0])\n",
    "    long = float(preProcess[1])\n",
    "    return (lat, long)"
   ]
  },
  {
   "cell_type": "code",
   "execution_count": null,
   "metadata": {},
   "outputs": [],
   "source": [
    "CR_index['LocationCoord'] = CR_index['Raw_String'].apply(Location_extractor)"
   ]
  },
  {
   "cell_type": "code",
   "execution_count": null,
   "metadata": {},
   "outputs": [],
   "source": [
    "CR_index  = CR_index.drop(columns=['Raw_String'], axis = 1)"
   ]
  },
  {
   "cell_type": "code",
   "execution_count": null,
   "metadata": {},
   "outputs": [],
   "source": [
    "%%time\n",
    "\n",
    "chicago_map_crime = folium.Map(location=[41.881832, -87.623177],\n",
    "                         zoom_start=13, tiles=\"CartoDB dark_matter\")\n",
    "\n",
    "for i in range(500):\n",
    "    lat = CR_index['LocationCoord'].iloc[i][0]\n",
    "    long = CR_index['LocationCoord'].iloc[i][1]\n",
    "    radius = CR_index['ValueCount'].iloc[i] / 20\n",
    "    \n",
    "    if CR_index['ValueCount'].iloc[i] > 1000:\n",
    "        color = \"#FF4500\"\n",
    "    else:\n",
    "        color = \"#008080\"\n",
    "    \n",
    "    popup_text = \"\"\"Latitude : {}<br>\n",
    "                Longitude : {}<br>\n",
    "                Criminal Incidents : {}<br>\"\"\"\n",
    "    popup_text = popup_text.format(lat,\n",
    "                               long,\n",
    "                               CR_index['ValueCount'].iloc[i]\n",
    "                               )\n",
    "    folium.CircleMarker(location = [lat, long], popup= popup_text,radius = radius, color = color, fill = True).add_to(chicago_map_crime)"
   ]
  },
  {
   "cell_type": "code",
   "execution_count": null,
   "metadata": {},
   "outputs": [],
   "source": [
    "chicago_map_crime"
   ]
  },
  {
   "cell_type": "code",
   "execution_count": null,
   "metadata": {},
   "outputs": [],
   "source": []
  }
 ],
 "metadata": {
  "kernelspec": {
   "display_name": "Python 3",
   "language": "python",
   "name": "python3"
  },
  "language_info": {
   "codemirror_mode": {
    "name": "ipython",
    "version": 3
   },
   "file_extension": ".py",
   "mimetype": "text/x-python",
   "name": "python",
   "nbconvert_exporter": "python",
   "pygments_lexer": "ipython3",
   "version": "3.7.6"
  }
 },
 "nbformat": 4,
 "nbformat_minor": 4
}
