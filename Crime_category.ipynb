{
 "cells": [
  {
   "cell_type": "markdown",
   "metadata": {},
   "source": [
    "## Crime category "
   ]
  },
  {
   "cell_type": "code",
   "execution_count": 5,
   "metadata": {},
   "outputs": [],
   "source": [
    "#Import the necessary libraries \n",
    "import pandas as pd\n",
    "import numpy as np\n",
    "import matplotlib.pyplot as plt\n",
    "import squarify"
   ]
  },
  {
   "cell_type": "raw",
   "metadata": {},
   "source": [
    "crimes = pd.read_csv(\"/Users/oleoaraujo/Desktop/Crimes-in-Chicago/Crimes_-_2015_to_2020.csv\")"
   ]
  },
  {
   "cell_type": "code",
   "execution_count": null,
   "metadata": {},
   "outputs": [],
   "source": [
    "#Load the dataset \n",
    "crimes = pd.read_csv('/Users/yadavvinamrata/Downloads/Crimes_-_2015_to_2020.csv')"
   ]
  },
  {
   "cell_type": "code",
   "execution_count": 3,
   "metadata": {},
   "outputs": [
    {
     "data": {
      "text/html": [
       "<div>\n",
       "<style scoped>\n",
       "    .dataframe tbody tr th:only-of-type {\n",
       "        vertical-align: middle;\n",
       "    }\n",
       "\n",
       "    .dataframe tbody tr th {\n",
       "        vertical-align: top;\n",
       "    }\n",
       "\n",
       "    .dataframe thead th {\n",
       "        text-align: right;\n",
       "    }\n",
       "</style>\n",
       "<table border=\"1\" class=\"dataframe\">\n",
       "  <thead>\n",
       "    <tr style=\"text-align: right;\">\n",
       "      <th></th>\n",
       "      <th>ID</th>\n",
       "      <th>Case Number</th>\n",
       "      <th>Date</th>\n",
       "      <th>Block</th>\n",
       "      <th>Primary Type</th>\n",
       "      <th>Description</th>\n",
       "      <th>Location Description</th>\n",
       "      <th>Arrest</th>\n",
       "      <th>Domestic</th>\n",
       "      <th>Beat</th>\n",
       "      <th>District</th>\n",
       "      <th>Ward</th>\n",
       "      <th>Community Area</th>\n",
       "      <th>Year</th>\n",
       "      <th>Updated On</th>\n",
       "      <th>Latitude</th>\n",
       "      <th>Longitude</th>\n",
       "      <th>Location</th>\n",
       "    </tr>\n",
       "  </thead>\n",
       "  <tbody>\n",
       "    <tr>\n",
       "      <th>0</th>\n",
       "      <td>10224738</td>\n",
       "      <td>HY411648</td>\n",
       "      <td>2015-09-05 13:30:00</td>\n",
       "      <td>043XX S WOOD ST</td>\n",
       "      <td>BATTERY</td>\n",
       "      <td>DOMESTIC BATTERY SIMPLE</td>\n",
       "      <td>RESIDENCE</td>\n",
       "      <td>0</td>\n",
       "      <td>1</td>\n",
       "      <td>924</td>\n",
       "      <td>9.0</td>\n",
       "      <td>12.0</td>\n",
       "      <td>61.0</td>\n",
       "      <td>2015</td>\n",
       "      <td>2018-02-10 15:50:01</td>\n",
       "      <td>41.815117</td>\n",
       "      <td>-87.670000</td>\n",
       "      <td>(41.815117282, -87.669999562)</td>\n",
       "    </tr>\n",
       "    <tr>\n",
       "      <th>1</th>\n",
       "      <td>10224739</td>\n",
       "      <td>HY411615</td>\n",
       "      <td>2015-09-04 11:30:00</td>\n",
       "      <td>008XX N CENTRAL AVE</td>\n",
       "      <td>THEFT</td>\n",
       "      <td>POCKET-PICKING</td>\n",
       "      <td>CTA BUS</td>\n",
       "      <td>0</td>\n",
       "      <td>0</td>\n",
       "      <td>1511</td>\n",
       "      <td>15.0</td>\n",
       "      <td>29.0</td>\n",
       "      <td>25.0</td>\n",
       "      <td>2015</td>\n",
       "      <td>2018-02-10 15:50:01</td>\n",
       "      <td>41.895080</td>\n",
       "      <td>-87.765400</td>\n",
       "      <td>(41.895080471, -87.765400451)</td>\n",
       "    </tr>\n",
       "    <tr>\n",
       "      <th>2</th>\n",
       "      <td>11646166</td>\n",
       "      <td>JC213529</td>\n",
       "      <td>2018-09-01 00:01:00</td>\n",
       "      <td>082XX S INGLESIDE AVE</td>\n",
       "      <td>THEFT</td>\n",
       "      <td>OVER $500</td>\n",
       "      <td>RESIDENCE</td>\n",
       "      <td>0</td>\n",
       "      <td>1</td>\n",
       "      <td>631</td>\n",
       "      <td>6.0</td>\n",
       "      <td>8.0</td>\n",
       "      <td>44.0</td>\n",
       "      <td>2018</td>\n",
       "      <td>2019-04-06 16:04:43</td>\n",
       "      <td>NaN</td>\n",
       "      <td>NaN</td>\n",
       "      <td>NaN</td>\n",
       "    </tr>\n",
       "    <tr>\n",
       "      <th>3</th>\n",
       "      <td>10224740</td>\n",
       "      <td>HY411595</td>\n",
       "      <td>2015-09-05 12:45:00</td>\n",
       "      <td>035XX W BARRY AVE</td>\n",
       "      <td>NARCOTICS</td>\n",
       "      <td>POSS: HEROIN(BRN/TAN)</td>\n",
       "      <td>SIDEWALK</td>\n",
       "      <td>1</td>\n",
       "      <td>0</td>\n",
       "      <td>1412</td>\n",
       "      <td>14.0</td>\n",
       "      <td>35.0</td>\n",
       "      <td>21.0</td>\n",
       "      <td>2015</td>\n",
       "      <td>2018-02-10 15:50:01</td>\n",
       "      <td>41.937406</td>\n",
       "      <td>-87.716650</td>\n",
       "      <td>(41.937405765, -87.716649687)</td>\n",
       "    </tr>\n",
       "    <tr>\n",
       "      <th>4</th>\n",
       "      <td>10224741</td>\n",
       "      <td>HY411610</td>\n",
       "      <td>2015-09-05 13:00:00</td>\n",
       "      <td>0000X N LARAMIE AVE</td>\n",
       "      <td>ASSAULT</td>\n",
       "      <td>SIMPLE</td>\n",
       "      <td>APARTMENT</td>\n",
       "      <td>0</td>\n",
       "      <td>1</td>\n",
       "      <td>1522</td>\n",
       "      <td>15.0</td>\n",
       "      <td>28.0</td>\n",
       "      <td>25.0</td>\n",
       "      <td>2015</td>\n",
       "      <td>2018-02-10 15:50:01</td>\n",
       "      <td>41.881903</td>\n",
       "      <td>-87.755121</td>\n",
       "      <td>(41.881903443, -87.755121152)</td>\n",
       "    </tr>\n",
       "  </tbody>\n",
       "</table>\n",
       "</div>"
      ],
      "text/plain": [
       "         ID Case Number                 Date                  Block  \\\n",
       "0  10224738    HY411648  2015-09-05 13:30:00        043XX S WOOD ST   \n",
       "1  10224739    HY411615  2015-09-04 11:30:00    008XX N CENTRAL AVE   \n",
       "2  11646166    JC213529  2018-09-01 00:01:00  082XX S INGLESIDE AVE   \n",
       "3  10224740    HY411595  2015-09-05 12:45:00      035XX W BARRY AVE   \n",
       "4  10224741    HY411610  2015-09-05 13:00:00    0000X N LARAMIE AVE   \n",
       "\n",
       "  Primary Type              Description Location Description  Arrest  \\\n",
       "0      BATTERY  DOMESTIC BATTERY SIMPLE            RESIDENCE       0   \n",
       "1        THEFT           POCKET-PICKING              CTA BUS       0   \n",
       "2        THEFT                OVER $500            RESIDENCE       0   \n",
       "3    NARCOTICS    POSS: HEROIN(BRN/TAN)             SIDEWALK       1   \n",
       "4      ASSAULT                   SIMPLE            APARTMENT       0   \n",
       "\n",
       "   Domestic  Beat  District  Ward  Community Area  Year           Updated On  \\\n",
       "0         1   924       9.0  12.0            61.0  2015  2018-02-10 15:50:01   \n",
       "1         0  1511      15.0  29.0            25.0  2015  2018-02-10 15:50:01   \n",
       "2         1   631       6.0   8.0            44.0  2018  2019-04-06 16:04:43   \n",
       "3         0  1412      14.0  35.0            21.0  2015  2018-02-10 15:50:01   \n",
       "4         1  1522      15.0  28.0            25.0  2015  2018-02-10 15:50:01   \n",
       "\n",
       "    Latitude  Longitude                       Location  \n",
       "0  41.815117 -87.670000  (41.815117282, -87.669999562)  \n",
       "1  41.895080 -87.765400  (41.895080471, -87.765400451)  \n",
       "2        NaN        NaN                            NaN  \n",
       "3  41.937406 -87.716650  (41.937405765, -87.716649687)  \n",
       "4  41.881903 -87.755121  (41.881903443, -87.755121152)  "
      ]
     },
     "execution_count": 3,
     "metadata": {},
     "output_type": "execute_result"
    }
   ],
   "source": [
    "crimes.head()"
   ]
  },
  {
   "cell_type": "code",
   "execution_count": 7,
   "metadata": {},
   "outputs": [
    {
     "data": {
      "text/plain": [
       "THEFT                                352089\n",
       "BATTERY                              289200\n",
       "CRIMINAL DAMAGE                      168064\n",
       "ASSAULT                              114338\n",
       "DECEPTIVE PRACTICE                   110579\n",
       "OTHER OFFENSE                         98589\n",
       "NARCOTICS                             84853\n",
       "BURGLARY                              70576\n",
       "MOTOR VEHICLE THEFT                   61618\n",
       "ROBBERY                               59017\n",
       "CRIMINAL TRESPASS                     37414\n",
       "WEAPONS VIOLATION                     31717\n",
       "OFFENSE INVOLVING CHILDREN            13570\n",
       "PUBLIC PEACE VIOLATION                 9687\n",
       "CRIM SEXUAL ASSAULT                    6920\n",
       "INTERFERENCE WITH PUBLIC OFFICER       6837\n",
       "SEX OFFENSE                            6462\n",
       "PROSTITUTION                           4531\n",
       "HOMICIDE                               3855\n",
       "ARSON                                  2745\n",
       "CRIMINAL SEXUAL ASSAULT                2192\n",
       "LIQUOR LAW VIOLATION                   1351\n",
       "STALKING                               1148\n",
       "GAMBLING                               1058\n",
       "KIDNAPPING                             1045\n",
       "INTIMIDATION                            901\n",
       "CONCEALED CARRY LICENSE VIOLATION       653\n",
       "OBSCENITY                               382\n",
       "NON-CRIMINAL                            143\n",
       "PUBLIC INDECENCY                         68\n",
       "HUMAN TRAFFICKING                        64\n",
       "OTHER NARCOTIC VIOLATION                 35\n",
       "NON - CRIMINAL                           25\n",
       "NON-CRIMINAL (SUBJECT SPECIFIED)          6\n",
       "RITUALISM                                 1\n",
       "Name: Primary Type, dtype: int64"
      ]
     },
     "execution_count": 7,
     "metadata": {},
     "output_type": "execute_result"
    }
   ],
   "source": [
    "crimes_per_type = crimes['Primary Type'].value_counts()\n",
    "crimes_per_type"
   ]
  },
  {
   "cell_type": "markdown",
   "metadata": {},
   "source": [
    "### Visualizing the types of crimes"
   ]
  },
  {
   "cell_type": "code",
   "execution_count": 33,
   "metadata": {},
   "outputs": [
    {
     "data": {
      "image/png": "[encoded data removed]",
      "text/plain": [
       "<Figure size 1152x720 with 1 Axes>"
      ]
     },
     "metadata": {
      "needs_background": "light"
     },
     "output_type": "display_data"
    }
   ],
   "source": [
    "# Plotting a treemap\n",
    "fig = plt.figure(figsize=(16,10))\n",
    "squarify.plot(sizes=crimes_per_type.values, value=(crimes_per_type.values[:16]*100/crimes_per_type.values.sum()).round(2),\n",
    "              label=crimes_per_type.index[:16], alpha=.8,\n",
    "              text_kwargs={'fontsize':10, 'wrap':True})\n",
    "plt.title('Total Crimes per Type (in %)')\n",
    "plt.axis('off')\n",
    "plt.show()"
   ]
  },
  {
   "cell_type": "code",
   "execution_count": null,
   "metadata": {},
   "outputs": [],
   "source": []
  }
 ],
 "metadata": {
  "kernelspec": {
   "display_name": "Python 3",
   "language": "python",
   "name": "python3"
  },
  "language_info": {
   "codemirror_mode": {
    "name": "ipython",
    "version": 3
   },
   "file_extension": ".py",
   "mimetype": "text/x-python",
   "name": "python",
   "nbconvert_exporter": "python",
   "pygments_lexer": "ipython3",
   "version": "3.9.1"
  }
 },
 "nbformat": 4,
 "nbformat_minor": 4
}
